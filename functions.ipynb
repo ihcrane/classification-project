{
 "cells": [
  {
   "cell_type": "code",
   "execution_count": 106,
   "id": "d2352e79",
   "metadata": {},
   "outputs": [],
   "source": [
    "import pandas as pd\n",
    "import seaborn as sns\n",
    "import numpy as np\n",
    "import matplotlib.pyplot as plt\n",
    "from scipy import stats\n",
    "from env import get_connection\n",
    "from prepare import train_val_test\n",
    "import acquire\n",
    "import warnings\n",
    "warnings.filterwarnings(\"ignore\")\n",
    "from sklearn.tree import DecisionTreeClassifier, plot_tree\n",
    "from sklearn.metrics import classification_report\n",
    "from sklearn.metrics import confusion_matrix\n",
    "from sklearn.ensemble import RandomForestClassifier\n",
    "from sklearn.linear_model import LogisticRegression"
   ]
  },
  {
   "cell_type": "code",
   "execution_count": 107,
   "id": "c6af2308",
   "metadata": {},
   "outputs": [],
   "source": [
    "def telco_prep(df):\n",
    "    df = acquire.get_telco_data(get_connection)\n",
    "    df = df.drop(['Unnamed: 0','gender', 'senior_citizen', 'partner', 'phone_service', 'tech_support', 'streaming_tv', \n",
    "                    'streaming_movies', 'paperless_billing', 'internet_service_type', 'online_security', 'online_backup', \n",
    "                    'device_protection', 'internet_service_type_id', 'customer_id', 'multiple_lines'], axis =1)\n",
    "    df = df.dropna()\n",
    "    df['total_charges'] = df['total_charges'].replace(' ', 0).astype(float)\n",
    "    \n",
    "    return df"
   ]
  },
  {
   "cell_type": "code",
   "execution_count": 108,
   "id": "1e114988",
   "metadata": {},
   "outputs": [],
   "source": [
    "telco = telco_prep('df')"
   ]
  },
  {
   "cell_type": "code",
   "execution_count": 109,
   "id": "12b1bc86",
   "metadata": {},
   "outputs": [],
   "source": [
    "def chi2(column, df):\n",
    "    chi2, p, degf, expected = chi2, p, degf, expected = stats.chi2_contingency(pd.crosstab(df['churn'], df[column]))\n",
    "    if p <= .05:\n",
    "        print(f'Comparing relationship between churn and {column}')\n",
    "        print(chi2, p)\n",
    "        print('------------------')\n",
    "        \n",
    "# Using a chi2 test to determine the main drivers behind the churn at Telco \n",
    "# Does not include payments yet, have to drop na and make a seperate test below"
   ]
  },
  {
   "cell_type": "code",
   "execution_count": 110,
   "id": "15b26a52",
   "metadata": {},
   "outputs": [],
   "source": [
    "def t_test(column, df):\n",
    "    churn = df[df['churn'] == 'Yes'][column]\n",
    "    not_churned = df[df['churn'] == 'No'][column]\n",
    "    t, p = stats.ttest_ind(churn, not_churned, equal_var = False)\n",
    "    print(f'Comparing relationship between churn and {column}')\n",
    "    print(t, p)\n",
    "    print('------------------')\n",
    "\n",
    "# T test for the charges because they we are comparing a catagorical variable to a continuous one\n",
    "# The code will print the results in a similar format to the chi2 test above"
   ]
  },
  {
   "cell_type": "code",
   "execution_count": 111,
   "id": "5dace301",
   "metadata": {},
   "outputs": [],
   "source": [
    "def split_data(df, target):\n",
    "    train, val, test = train_val_test(df, target)\n",
    "    \n",
    "    X_train = train.drop(columns='churn')\n",
    "    y_train = train['churn']\n",
    "\n",
    "    X_val = val.drop(columns='churn')\n",
    "    y_val = val['churn']\n",
    "\n",
    "    X_test = test.drop(columns='churn')\n",
    "    y_test = test['churn']\n",
    "    \n",
    "    return train, val, test, X_train, y_train, X_val, y_val, X_test, y_test\n",
    "# Creating splits for the data using custom libraray function"
   ]
  },
  {
   "cell_type": "code",
   "execution_count": 112,
   "id": "79df9af7",
   "metadata": {},
   "outputs": [],
   "source": [
    "train, val, test, X_train, y_train, X_val, y_val, X_test, y_test = split_data(telco, 'churn')"
   ]
  },
  {
   "cell_type": "code",
   "execution_count": 113,
   "id": "c4913190",
   "metadata": {},
   "outputs": [],
   "source": [
    "def contract_plot(df, x, hue):\n",
    "    sns.countplot(x = df[x], hue = df[hue])\n",
    "# count plot for contract_type hued by churn to visualize churn for each contract type"
   ]
  },
  {
   "cell_type": "code",
   "execution_count": 114,
   "id": "65f73e07",
   "metadata": {},
   "outputs": [],
   "source": [
    "def dependents_plot(df, x, hue):\n",
    "    sns.countplot(x = df[x], hue = df[hue])\n",
    "# Countplot for dependents hued by churn"
   ]
  },
  {
   "cell_type": "code",
   "execution_count": 115,
   "id": "eb87eee4",
   "metadata": {},
   "outputs": [],
   "source": [
    "def payment_plot(df, y, hue):\n",
    "    sns.countplot(y = df[y], hue = df[hue])\n",
    "# Count plot visualizes payment_type and count of churn for each payment type"
   ]
  },
  {
   "cell_type": "code",
   "execution_count": 116,
   "id": "d13e854b",
   "metadata": {},
   "outputs": [],
   "source": [
    "def monthly_charges_hist(df, target, column, color1, color2, alpha1, alpha2, edgecolor, label1, label2, xlabel, ylabel, title):\n",
    "    churn = df[df[target] == 'Yes'][column]\n",
    "    not_churned = df[df[target] == 'No'][column]\n",
    "    plt.hist(x = churn, color = 'blue', alpha = .5, edgecolor = 'black', label = 'churned')\n",
    "    plt.hist(x = not_churned, color = 'red', alpha = .1, edgecolor = 'black', label = 'not churned')\n",
    "    plt.legend(loc = 'upper right')\n",
    "    plt.xlabel('Monthly Charges')\n",
    "    plt.ylabel('Number of Customers')\n",
    "    plt.title('Churn Based on Monthly Charges')\n",
    "    plt.show()"
   ]
  },
  {
   "cell_type": "code",
   "execution_count": 117,
   "id": "63465d5c",
   "metadata": {},
   "outputs": [],
   "source": [
    "def change_int(df, column):\n",
    "    df[column] = np.where(df[column] == 'Yes', 1, 0)\n",
    "    return df[column]"
   ]
  },
  {
   "cell_type": "code",
   "execution_count": 118,
   "id": "80cce0e0",
   "metadata": {},
   "outputs": [],
   "source": [
    "telco['dependents'] = change_int(telco, 'dependents')"
   ]
  },
  {
   "cell_type": "code",
   "execution_count": 119,
   "id": "f05c039c",
   "metadata": {},
   "outputs": [],
   "source": [
    "def drop_cols(df, drop1, drop2, ax):\n",
    "    df = df.drop([drop1, drop2], axis = ax)\n",
    "    return df"
   ]
  },
  {
   "cell_type": "code",
   "execution_count": 120,
   "id": "2ca4ece7",
   "metadata": {},
   "outputs": [],
   "source": [
    "telco = drop_cols(telco, 'payment_type', 'contract_type', 1)"
   ]
  },
  {
   "cell_type": "code",
   "execution_count": 121,
   "id": "738b9898",
   "metadata": {},
   "outputs": [],
   "source": [
    "def baseline(df, target):\n",
    "    baseline = len(df[df[target] == 'No'])/ len(df)\n",
    "    return baseline"
   ]
  },
  {
   "cell_type": "code",
   "execution_count": 122,
   "id": "85c45a70",
   "metadata": {},
   "outputs": [],
   "source": [
    "train, val, test, X_train, y_train, X_val, y_val, X_test, y_test = split_data(telco, 'churn')"
   ]
  },
  {
   "cell_type": "code",
   "execution_count": 123,
   "id": "17a8d80f",
   "metadata": {},
   "outputs": [],
   "source": [
    "def dec_tree(x, y, depth):\n",
    "    train_tree = DecisionTreeClassifier(max_depth= depth, random_state=42)\n",
    "    train_tree.fit(x, y)\n",
    "    plt.figure(figsize=(13, 7))\n",
    "    plot_tree(train_tree, feature_names=x.columns, class_names=train_tree.classes_, rounded=True)\n",
    "\n",
    "    return train_tree"
   ]
  },
  {
   "cell_type": "code",
   "execution_count": 124,
   "id": "0872a83a",
   "metadata": {},
   "outputs": [],
   "source": [
    "def tree_score(x,y,depth):\n",
    "    train_tree = DecisionTreeClassifier(max_depth= depth, random_state=42)\n",
    "    train_tree.fit(X_train, y_train)\n",
    "    train_tree.score(x,y)\n",
    "    return train_tree.score(x,y)"
   ]
  },
  {
   "cell_type": "code",
   "execution_count": 125,
   "id": "296b4131",
   "metadata": {},
   "outputs": [],
   "source": [
    "def tree_matrix(x, y, depth):\n",
    "    train_tree = DecisionTreeClassifier(max_depth= depth, random_state=42)\n",
    "    train_tree.fit(X_train, y_train)\n",
    "    pred = train_tree.predict(x)\n",
    "    labels = sorted(y.unique())\n",
    "    df = pd.DataFrame(confusion_matrix(y, pred), index=labels, columns=labels)\n",
    "    return df"
   ]
  },
  {
   "cell_type": "code",
   "execution_count": 126,
   "id": "4ba9736e",
   "metadata": {},
   "outputs": [],
   "source": [
    "def tree_report(x, y, depth):\n",
    "    train_tree = DecisionTreeClassifier(max_depth= depth, random_state=42)\n",
    "    train_tree.fit(X_train, y_train)\n",
    "    pred = train_tree.predict(x)\n",
    "    print(classification_report(y, pred))"
   ]
  },
  {
   "cell_type": "code",
   "execution_count": 127,
   "id": "5d4e97fd",
   "metadata": {},
   "outputs": [],
   "source": [
    "def rfc_score(x, y, depth):\n",
    "    rf = RandomForestClassifier(bootstrap=True, \n",
    "                            class_weight=None, \n",
    "                            criterion='gini',\n",
    "                            min_samples_leaf=3,\n",
    "                            n_estimators=100,\n",
    "                            max_depth=depth, \n",
    "                            random_state=42)\n",
    "    rf.fit(X_train, y_train)\n",
    "    pred = rf.predict(x)\n",
    "    rf.score(x, y)\n",
    "    return rf.score(x, y)"
   ]
  },
  {
   "cell_type": "code",
   "execution_count": 86,
   "id": "b835ef67",
   "metadata": {},
   "outputs": [],
   "source": [
    "def rfc_matrix(x, y, depth):\n",
    "    rf = RandomForestClassifier(bootstrap=True, \n",
    "                            class_weight=None, \n",
    "                            criterion='gini',\n",
    "                            min_samples_leaf=3,\n",
    "                            n_estimators=100,\n",
    "                            max_depth=depth, \n",
    "                            random_state=42)\n",
    "    rf.fit(X_train, y_train)\n",
    "    pred = rf.predict(x)\n",
    "    labels = sorted(y.unique())\n",
    "    df = pd.DataFrame(confusion_matrix(y, pred), index=labels, columns=labels)\n",
    "    return df"
   ]
  },
  {
   "cell_type": "code",
   "execution_count": 88,
   "id": "2b67551c",
   "metadata": {},
   "outputs": [],
   "source": [
    "def rfc_report(x, y, depth):\n",
    "    rf = RandomForestClassifier(bootstrap=True, \n",
    "                            class_weight=None, \n",
    "                            criterion='gini',\n",
    "                            min_samples_leaf=3,\n",
    "                            n_estimators=100,\n",
    "                            max_depth=depth, \n",
    "                            random_state=42)\n",
    "    rf.fit(X_train, y_train)\n",
    "    pred = rf.predict(x)\n",
    "    print(classification_report(y, pred))"
   ]
  },
  {
   "cell_type": "code",
   "execution_count": 91,
   "id": "6e7959da",
   "metadata": {},
   "outputs": [],
   "source": [
    "def log_reg_score(x, y, c):\n",
    "    logit = LogisticRegression(C= c, random_state=42, intercept_scaling=1, solver='lbfgs')\n",
    "    logit.fit(X_train, y_train)\n",
    "    pred = logit.predict(x)\n",
    "    logit.score(x, y)\n",
    "    return logit.score(x, y)"
   ]
  },
  {
   "cell_type": "code",
   "execution_count": 93,
   "id": "9f07d35c",
   "metadata": {},
   "outputs": [],
   "source": [
    "def log_matrix(x, y, c):\n",
    "    logit = LogisticRegression(C= c, random_state=42, intercept_scaling=1, solver='lbfgs')\n",
    "    logit.fit(X_train, y_train)\n",
    "    pred = logit.predict(x)\n",
    "    labels = sorted(y.unique())\n",
    "    df = pd.DataFrame(confusion_matrix(y, pred), index=labels, columns=labels)\n",
    "    return df"
   ]
  },
  {
   "cell_type": "code",
   "execution_count": 97,
   "id": "7a78d245",
   "metadata": {},
   "outputs": [],
   "source": [
    "def log_report(x, y, c):\n",
    "    logit = LogisticRegression(C= c, random_state=42, intercept_scaling=1, solver='lbfgs')\n",
    "    logit.fit(X_train, y_train)\n",
    "    pred = logit.predict(x)\n",
    "    print(classification_report(y, pred))"
   ]
  },
  {
   "cell_type": "code",
   "execution_count": null,
   "id": "049e7c4e",
   "metadata": {},
   "outputs": [],
   "source": []
  }
 ],
 "metadata": {
  "kernelspec": {
   "display_name": "Python 3 (ipykernel)",
   "language": "python",
   "name": "python3"
  },
  "language_info": {
   "codemirror_mode": {
    "name": "ipython",
    "version": 3
   },
   "file_extension": ".py",
   "mimetype": "text/x-python",
   "name": "python",
   "nbconvert_exporter": "python",
   "pygments_lexer": "ipython3",
   "version": "3.9.13"
  }
 },
 "nbformat": 4,
 "nbformat_minor": 5
}
