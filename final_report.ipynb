{
 "cells": [
  {
   "cell_type": "markdown",
   "id": "9f2f6393",
   "metadata": {},
   "source": [
    "# Telco Churn Project"
   ]
  },
  {
   "cell_type": "markdown",
   "id": "253fb493",
   "metadata": {},
   "source": [
    "## Goals: \n",
    "- To discover main drivers of churn\n",
    "- Create a ML program to predict churn with at least an 80% accuracy"
   ]
  },
  {
   "cell_type": "code",
   "execution_count": 6,
   "id": "288348fc",
   "metadata": {},
   "outputs": [],
   "source": [
    "import pandas as pd\n",
    "import seaborn as sns\n",
    "import numpy as np\n",
    "import matplotlib.pyplot as plt\n",
    "from scipy import stats\n",
    "import acquire\n",
    "from env import get_connection\n",
    "from prepare import train_val_test\n",
    "import warnings\n",
    "warnings.filterwarnings(\"ignore\")\n",
    "from sklearn.metrics import classification_report\n",
    "from sklearn.metrics import confusion_matrix\n",
    "from sklearn.ensemble import RandomForestClassifier"
   ]
  },
  {
   "cell_type": "markdown",
   "id": "604ebdf7",
   "metadata": {},
   "source": [
    "## Acquire\n",
    "\n",
    "- Data acquired from Telco database\n",
    "- Each row represents a customer\n",
    "- Each column represents a information about the customer or services included"
   ]
  },
  {
   "cell_type": "markdown",
   "id": "d58d1da5",
   "metadata": {},
   "source": [
    "## Prepare\n",
    "\n",
    "### Prepare Actions:\n",
    "\n",
    "- Removed columns that did not contain useful information\n",
    "- Removed null values\n",
    "- Checked that column data types were appropriate\n",
    "- Split data into train, validate and test (approx. 70/15/15), stratifying on 'churn'\n"
   ]
  },
  {
   "cell_type": "markdown",
   "id": "04d9f765",
   "metadata": {},
   "source": [
    "## Data Dictionary \n",
    "\n",
    "| Feature | Description |\n",
    "| :--- | :--- |\n",
    "| churn | When a customer cancels contract or subscription with the company |\n",
    "| contract_type | The type of contract that the customer has with Telco |\n",
    "| payment_type | The form in which the customer pays their monthly bill |\n",
    "| dependents | Whether or not the customer has a dependent on their account |\n",
    "| monthly_charges | How much a customer pays per month |\n",
    "| tenure | How long a customer has been with the company |\n",
    "| total_charges | How much a customer has paid over their entire tenure |\n",
    "| payment_type_id | Number assignments for stats purposes |\n",
    "| contract_type_id | Number assignments for stats purposes |"
   ]
  },
  {
   "cell_type": "code",
   "execution_count": 10,
   "id": "06a5e8cd",
   "metadata": {},
   "outputs": [],
   "source": [
    "# acquiring and cleaning data\n",
    "telco = acquire.get_telco_data(get_connection)\n",
    "telco = telco.drop(['Unnamed: 0','gender', 'senior_citizen', 'partner', 'phone_service', 'tech_support', 'streaming_tv', \n",
    "                    'streaming_movies', 'paperless_billing', 'internet_service_type', 'online_security', 'online_backup', \n",
    "                    'device_protection', 'internet_service_type_id', 'customer_id', 'contract_type', 'payment_type'], axis =1)\n",
    "\n",
    "# splitting data into train, validate, and test\n",
    "train, validate, test = train_val_test(telco, 'churn')\n"
   ]
  },
  {
   "cell_type": "code",
   "execution_count": 11,
   "id": "5ea7866e",
   "metadata": {},
   "outputs": [
    {
     "data": {
      "text/html": [
       "<div>\n",
       "<style scoped>\n",
       "    .dataframe tbody tr th:only-of-type {\n",
       "        vertical-align: middle;\n",
       "    }\n",
       "\n",
       "    .dataframe tbody tr th {\n",
       "        vertical-align: top;\n",
       "    }\n",
       "\n",
       "    .dataframe thead th {\n",
       "        text-align: right;\n",
       "    }\n",
       "</style>\n",
       "<table border=\"1\" class=\"dataframe\">\n",
       "  <thead>\n",
       "    <tr style=\"text-align: right;\">\n",
       "      <th></th>\n",
       "      <th>payment_type_id</th>\n",
       "      <th>contract_type_id</th>\n",
       "      <th>dependents</th>\n",
       "      <th>tenure</th>\n",
       "      <th>multiple_lines</th>\n",
       "      <th>monthly_charges</th>\n",
       "      <th>total_charges</th>\n",
       "      <th>churn</th>\n",
       "    </tr>\n",
       "  </thead>\n",
       "  <tbody>\n",
       "    <tr>\n",
       "      <th>5609</th>\n",
       "      <td>1</td>\n",
       "      <td>1</td>\n",
       "      <td>No</td>\n",
       "      <td>14</td>\n",
       "      <td>No</td>\n",
       "      <td>76.45</td>\n",
       "      <td>1117.55</td>\n",
       "      <td>No</td>\n",
       "    </tr>\n",
       "    <tr>\n",
       "      <th>2209</th>\n",
       "      <td>2</td>\n",
       "      <td>2</td>\n",
       "      <td>No</td>\n",
       "      <td>5</td>\n",
       "      <td>No</td>\n",
       "      <td>70.00</td>\n",
       "      <td>347.4</td>\n",
       "      <td>Yes</td>\n",
       "    </tr>\n",
       "    <tr>\n",
       "      <th>6919</th>\n",
       "      <td>1</td>\n",
       "      <td>1</td>\n",
       "      <td>No</td>\n",
       "      <td>35</td>\n",
       "      <td>Yes</td>\n",
       "      <td>75.20</td>\n",
       "      <td>2576.2</td>\n",
       "      <td>Yes</td>\n",
       "    </tr>\n",
       "    <tr>\n",
       "      <th>2284</th>\n",
       "      <td>1</td>\n",
       "      <td>3</td>\n",
       "      <td>No</td>\n",
       "      <td>58</td>\n",
       "      <td>Yes</td>\n",
       "      <td>86.10</td>\n",
       "      <td>4890.5</td>\n",
       "      <td>No</td>\n",
       "    </tr>\n",
       "    <tr>\n",
       "      <th>845</th>\n",
       "      <td>2</td>\n",
       "      <td>1</td>\n",
       "      <td>No</td>\n",
       "      <td>2</td>\n",
       "      <td>No</td>\n",
       "      <td>49.60</td>\n",
       "      <td>114.7</td>\n",
       "      <td>Yes</td>\n",
       "    </tr>\n",
       "  </tbody>\n",
       "</table>\n",
       "</div>"
      ],
      "text/plain": [
       "      payment_type_id  contract_type_id dependents  tenure multiple_lines  \\\n",
       "5609                1                 1         No      14             No   \n",
       "2209                2                 2         No       5             No   \n",
       "6919                1                 1         No      35            Yes   \n",
       "2284                1                 3         No      58            Yes   \n",
       "845                 2                 1         No       2             No   \n",
       "\n",
       "      monthly_charges total_charges churn  \n",
       "5609            76.45       1117.55    No  \n",
       "2209            70.00         347.4   Yes  \n",
       "6919            75.20        2576.2   Yes  \n",
       "2284            86.10        4890.5    No  \n",
       "845             49.60         114.7   Yes  "
      ]
     },
     "execution_count": 11,
     "metadata": {},
     "output_type": "execute_result"
    }
   ],
   "source": [
    "train.head()"
   ]
  },
  {
   "cell_type": "code",
   "execution_count": null,
   "id": "35ca6f5b",
   "metadata": {},
   "outputs": [],
   "source": []
  }
 ],
 "metadata": {
  "kernelspec": {
   "display_name": "Python 3 (ipykernel)",
   "language": "python",
   "name": "python3"
  },
  "language_info": {
   "codemirror_mode": {
    "name": "ipython",
    "version": 3
   },
   "file_extension": ".py",
   "mimetype": "text/x-python",
   "name": "python",
   "nbconvert_exporter": "python",
   "pygments_lexer": "ipython3",
   "version": "3.9.13"
  }
 },
 "nbformat": 4,
 "nbformat_minor": 5
}
