{
 "cells": [
  {
   "cell_type": "markdown",
   "id": "bfc19fe5",
   "metadata": {},
   "source": [
    "# Telco Churn Project"
   ]
  },
  {
   "cell_type": "markdown",
   "id": "888ba68e",
   "metadata": {},
   "source": [
    "## Goals: \n",
    "- To discover main drivers of churn\n",
    "- Create a ML program to predict churn with at least an 80% accuracy"
   ]
  },
  {
   "cell_type": "code",
   "execution_count": 24,
   "id": "b4625b04",
   "metadata": {},
   "outputs": [],
   "source": [
    "import pandas as pd\n",
    "import seaborn as sns\n",
    "import numpy as np\n",
    "import matplotlib.pyplot as plt\n",
    "from scipy import stats\n",
    "import acquire\n",
    "from env import get_connection\n",
    "from prepare import train_val_test\n",
    "import warnings\n",
    "warnings.filterwarnings(\"ignore\")\n",
    "from sklearn.metrics import classification_report\n",
    "from sklearn.metrics import confusion_matrix\n",
    "from sklearn.ensemble import RandomForestClassifier\n",
    "import functions as f"
   ]
  },
  {
   "cell_type": "markdown",
   "id": "7ab4f690",
   "metadata": {},
   "source": [
    "## Acquire\n",
    "\n",
    "- Data acquired from Telco database\n",
    "- Each row represents a customer\n",
    "- Each column represents a information about the customer or services included"
   ]
  },
  {
   "cell_type": "markdown",
   "id": "0c9fc3ed",
   "metadata": {},
   "source": [
    "## Prepare\n",
    "\n",
    "### Prepare Actions:\n",
    "\n",
    "- Removed columns that did not contain useful information\n",
    "- Removed null values\n",
    "- Checked that column data types were appropriate\n",
    "- Split data into train, validate and test (approx. 70/15/15), stratifying on 'churn'\n"
   ]
  },
  {
   "cell_type": "markdown",
   "id": "599ec953",
   "metadata": {},
   "source": [
    "## Data Dictionary "
   ]
  },
  {
   "cell_type": "markdown",
   "id": "e9c95fcc",
   "metadata": {},
   "source": [
    "| Feature | Description |  \n",
    "| :--- | :--- |  \n",
    "| churn | When a customer cancels contract or subscription with the company |\n",
    "| contract_type | The type of contract that the customer has with Telco |\n",
    "| payment_type | The form in which the customer pays their monthly bill |\n",
    "| dependents | Whether or not the customer has a dependent on their account |\n",
    "| monthly_charges | How much a customer pays per month |\n",
    "| tenure | How long a customer has been with the company |\n",
    "| total_charges | How much a customer has paid over their entire tenure |\n",
    "| payment_type_id | Number assignments for stats purposes |\n",
    "| contract_type_id | Number assignments for stats purposes |"
   ]
  },
  {
   "cell_type": "code",
   "execution_count": 25,
   "id": "b05f64bd",
   "metadata": {},
   "outputs": [],
   "source": [
    "# acquiring and cleaning data\n",
    "telco = f.telco_prep('df')\n",
    "\n",
    "# splitting data into train, validate, and test\n",
    "train, val, test, X_train, y_train, X_val, y_val, X_test, y_test = f.split_data(telco, 'churn')\n"
   ]
  },
  {
   "cell_type": "code",
   "execution_count": 26,
   "id": "f7701c7e",
   "metadata": {},
   "outputs": [
    {
     "data": {
      "text/html": [
       "<div>\n",
       "<style scoped>\n",
       "    .dataframe tbody tr th:only-of-type {\n",
       "        vertical-align: middle;\n",
       "    }\n",
       "\n",
       "    .dataframe tbody tr th {\n",
       "        vertical-align: top;\n",
       "    }\n",
       "\n",
       "    .dataframe thead th {\n",
       "        text-align: right;\n",
       "    }\n",
       "</style>\n",
       "<table border=\"1\" class=\"dataframe\">\n",
       "  <thead>\n",
       "    <tr style=\"text-align: right;\">\n",
       "      <th></th>\n",
       "      <th>payment_type_id</th>\n",
       "      <th>contract_type_id</th>\n",
       "      <th>dependents</th>\n",
       "      <th>tenure</th>\n",
       "      <th>monthly_charges</th>\n",
       "      <th>total_charges</th>\n",
       "      <th>churn</th>\n",
       "      <th>contract_type</th>\n",
       "      <th>payment_type</th>\n",
       "    </tr>\n",
       "  </thead>\n",
       "  <tbody>\n",
       "    <tr>\n",
       "      <th>5609</th>\n",
       "      <td>1</td>\n",
       "      <td>1</td>\n",
       "      <td>No</td>\n",
       "      <td>14</td>\n",
       "      <td>76.45</td>\n",
       "      <td>1117.55</td>\n",
       "      <td>No</td>\n",
       "      <td>Month-to-month</td>\n",
       "      <td>Electronic check</td>\n",
       "    </tr>\n",
       "    <tr>\n",
       "      <th>2209</th>\n",
       "      <td>2</td>\n",
       "      <td>2</td>\n",
       "      <td>No</td>\n",
       "      <td>5</td>\n",
       "      <td>70.00</td>\n",
       "      <td>347.40</td>\n",
       "      <td>Yes</td>\n",
       "      <td>One year</td>\n",
       "      <td>Mailed check</td>\n",
       "    </tr>\n",
       "    <tr>\n",
       "      <th>6919</th>\n",
       "      <td>1</td>\n",
       "      <td>1</td>\n",
       "      <td>No</td>\n",
       "      <td>35</td>\n",
       "      <td>75.20</td>\n",
       "      <td>2576.20</td>\n",
       "      <td>Yes</td>\n",
       "      <td>Month-to-month</td>\n",
       "      <td>Electronic check</td>\n",
       "    </tr>\n",
       "    <tr>\n",
       "      <th>2284</th>\n",
       "      <td>1</td>\n",
       "      <td>3</td>\n",
       "      <td>No</td>\n",
       "      <td>58</td>\n",
       "      <td>86.10</td>\n",
       "      <td>4890.50</td>\n",
       "      <td>No</td>\n",
       "      <td>Two year</td>\n",
       "      <td>Electronic check</td>\n",
       "    </tr>\n",
       "    <tr>\n",
       "      <th>845</th>\n",
       "      <td>2</td>\n",
       "      <td>1</td>\n",
       "      <td>No</td>\n",
       "      <td>2</td>\n",
       "      <td>49.60</td>\n",
       "      <td>114.70</td>\n",
       "      <td>Yes</td>\n",
       "      <td>Month-to-month</td>\n",
       "      <td>Mailed check</td>\n",
       "    </tr>\n",
       "  </tbody>\n",
       "</table>\n",
       "</div>"
      ],
      "text/plain": [
       "      payment_type_id  contract_type_id dependents  tenure  monthly_charges  \\\n",
       "5609                1                 1         No      14            76.45   \n",
       "2209                2                 2         No       5            70.00   \n",
       "6919                1                 1         No      35            75.20   \n",
       "2284                1                 3         No      58            86.10   \n",
       "845                 2                 1         No       2            49.60   \n",
       "\n",
       "      total_charges churn   contract_type      payment_type  \n",
       "5609        1117.55    No  Month-to-month  Electronic check  \n",
       "2209         347.40   Yes        One year      Mailed check  \n",
       "6919        2576.20   Yes  Month-to-month  Electronic check  \n",
       "2284        4890.50    No        Two year  Electronic check  \n",
       "845          114.70   Yes  Month-to-month      Mailed check  "
      ]
     },
     "execution_count": 26,
     "metadata": {},
     "output_type": "execute_result"
    }
   ],
   "source": [
    "# brief look at the data \n",
    "train.head()"
   ]
  },
  {
   "cell_type": "markdown",
   "id": "86115896",
   "metadata": {},
   "source": [
    "## Using a chi2 test to determine the main drivers behind the churn at Telco "
   ]
  },
  {
   "cell_type": "markdown",
   "id": "014cf0b8",
   "metadata": {},
   "source": [
    "**Which payment type has the highest churn rate?**"
   ]
  },
  {
   "cell_type": "code",
   "execution_count": 27,
   "id": "8077797d",
   "metadata": {},
   "outputs": [
    {
     "data": {
      "image/png": "[encoded data removed]",
      "text/plain": [
       "<Figure size 640x480 with 1 Axes>"
      ]
     },
     "metadata": {},
     "output_type": "display_data"
    }
   ],
   "source": [
    "# Visualization of payment type hued with churn rate.\n",
    "f.payment_plot(train, 'payment_type', 'churn')"
   ]
  },
  {
   "cell_type": "markdown",
   "id": "f87afb23",
   "metadata": {},
   "source": [
    "- determining if payment type and churn are related\n",
    "- confidence interval of 95%\n",
    "- alpha of .05\n",
    "\n",
    "**Ho: Churn and Payment type are independent of one another**  \n",
    "**Ha: Churn and payment type are related**"
   ]
  },
  {
   "cell_type": "code",
   "execution_count": 28,
   "id": "f320c6e1",
   "metadata": {},
   "outputs": [
    {
     "name": "stdout",
     "output_type": "stream",
     "text": [
      "Comparing relationship between churn and payment_type_id\n",
      "467.1218774885944 6.35850529852611e-101\n",
      "------------------\n"
     ]
    }
   ],
   "source": [
    "# chi-squared test of payment type\n",
    "f.chi2('payment_type_id', train)"
   ]
  },
  {
   "cell_type": "markdown",
   "id": "cf98e446",
   "metadata": {},
   "source": [
    "The p-value is lower than the alpha so the churn rate and payment type are related"
   ]
  },
  {
   "cell_type": "markdown",
   "id": "3b59b2ac",
   "metadata": {},
   "source": [
    "**Which contract type has the highest churn rate?**"
   ]
  },
  {
   "cell_type": "code",
   "execution_count": 29,
   "id": "9561293d",
   "metadata": {},
   "outputs": [
    {
     "data": {
      "image/png": "[encoded data removed]",
      "text/plain": [
       "<Figure size 640x480 with 1 Axes>"
      ]
     },
     "metadata": {},
     "output_type": "display_data"
    }
   ],
   "source": [
    "# Visualizing churn rate hued on contract type\n",
    "f.contract_plot(train, 'contract_type', 'churn')"
   ]
  },
  {
   "cell_type": "markdown",
   "id": "50d9fc12",
   "metadata": {},
   "source": [
    "- determining if contract type and churn are related\n",
    "- confidence interval of 95%\n",
    "- alpha of .05\n",
    "\n",
    "**Ho: Churn and Contract type are independent of one another**  \n",
    "**Ha: Churn and Contract type are related**"
   ]
  },
  {
   "cell_type": "code",
   "execution_count": 7,
   "id": "0bcd8466",
   "metadata": {},
   "outputs": [
    {
     "name": "stdout",
     "output_type": "stream",
     "text": [
      "Comparing relationship between churn and contract_type_id\n",
      "857.5521456703501 6.094212526763626e-187\n",
      "------------------\n"
     ]
    }
   ],
   "source": [
    "# chi-squared test of contract type\n",
    "f.chi2('contract_type_id', train)"
   ]
  },
  {
   "cell_type": "markdown",
   "id": "db7854c7",
   "metadata": {},
   "source": [
    "The p-value is lower than the alpha so the churn rate and contract type are related"
   ]
  },
  {
   "cell_type": "markdown",
   "id": "8850a510",
   "metadata": {},
   "source": [
    "**Do those with dependents churn more than those without?**"
   ]
  },
  {
   "cell_type": "code",
   "execution_count": 8,
   "id": "c0f9e6eb",
   "metadata": {},
   "outputs": [
    {
     "data": {
      "image/png": "[encoded data removed]",
      "text/plain": [
       "<Figure size 640x480 with 1 Axes>"
      ]
     },
     "metadata": {},
     "output_type": "display_data"
    }
   ],
   "source": [
    "# Visualizing churn rate based on having dependents\n",
    "f.dependents_plot(train, 'dependents', 'churn')"
   ]
  },
  {
   "cell_type": "markdown",
   "id": "fc44240a",
   "metadata": {},
   "source": [
    "- determining if having dependents and churn are related\n",
    "- confidence interval of 95%\n",
    "- alpha of .05\n",
    "\n",
    "**Ho: Churn and having dependents are independent of one another**  \n",
    "**Ha: Churn and having dependents are related**"
   ]
  },
  {
   "cell_type": "code",
   "execution_count": 9,
   "id": "4ed81ee3",
   "metadata": {},
   "outputs": [
    {
     "name": "stdout",
     "output_type": "stream",
     "text": [
      "Comparing relationship between churn and dependents\n",
      "127.52149549413217 1.4284535276057882e-29\n",
      "------------------\n"
     ]
    }
   ],
   "source": [
    "# chi-squared test of dependents\n",
    "f.chi2('dependents', train)"
   ]
  },
  {
   "cell_type": "markdown",
   "id": "1bc7d952",
   "metadata": {},
   "source": [
    "The p-value is lower than the alpha so the churn rate and having dependents are related"
   ]
  },
  {
   "cell_type": "markdown",
   "id": "1644e8dd",
   "metadata": {},
   "source": [
    "## Using t-test to determine significance of monthly charges"
   ]
  },
  {
   "cell_type": "markdown",
   "id": "c73479a5",
   "metadata": {},
   "source": [
    "**Do those with higher monthly payments churn more often than those with lower payments?**"
   ]
  },
  {
   "cell_type": "code",
   "execution_count": 10,
   "id": "8219eed4",
   "metadata": {},
   "outputs": [
    {
     "data": {
      "image/png": "[encoded data removed]",
      "text/plain": [
       "<Figure size 640x480 with 1 Axes>"
      ]
     },
     "metadata": {},
     "output_type": "display_data"
    }
   ],
   "source": [
    "# Visulazing churn rate based on monthly charges\n",
    "f.monthly_charges_hist(train, 'churn', 'monthly_charges', 'red', 'blue', \n",
    "                        .5, .1, 'black', 'churned', 'did not churn', 'Monthly Charges', \n",
    "                       'Amount of Customers', 'Churn Based on Monthly Charges')"
   ]
  },
  {
   "cell_type": "markdown",
   "id": "a093e13a",
   "metadata": {},
   "source": [
    "- determining if monthly chargesand churn are related\n",
    "- confidence interval of 95%\n",
    "- alpha of .05\n",
    "\n",
    "**Ho: Churn and monthly charges are independent of one another**  \n",
    "**Ha: Churn and monthly charges are related**"
   ]
  },
  {
   "cell_type": "code",
   "execution_count": 11,
   "id": "32688106",
   "metadata": {},
   "outputs": [
    {
     "name": "stdout",
     "output_type": "stream",
     "text": [
      "Comparing relationship between churn and monthly_charges\n",
      "18.407526676414673 8.59244933154705e-73\n",
      "------------------\n"
     ]
    }
   ],
   "source": [
    "# t-test for monthly charges\n",
    "f.t_test('monthly_charges', telco)"
   ]
  },
  {
   "cell_type": "markdown",
   "id": "e276361d",
   "metadata": {},
   "source": [
    "**The p-value is lower than the alpha so we can assume there is relationship between monthly charges and churn rate.**"
   ]
  },
  {
   "cell_type": "markdown",
   "id": "6eee9542",
   "metadata": {},
   "source": [
    "## Exploration Summary\n",
    "- Payment Types were found to be a driver of Churn\n",
    "- Contract types were found to be a driver of Churn \n",
    "- Having depenents were found to be a driver of Churn \n",
    "- Monthly charges were found to be a driver of Churn "
   ]
  },
  {
   "cell_type": "markdown",
   "id": "59bbb477",
   "metadata": {},
   "source": [
    "## Features im moving to modeling with\n",
    "- Payment types (proved to be related to churn)\n",
    "- Contract types (proved to be related to churn)\n",
    "- Dependent status (proved to be related to churn)\n",
    "- Monthly charges (proved to be related to churn)"
   ]
  },
  {
   "cell_type": "markdown",
   "id": "71dfcf0c",
   "metadata": {},
   "source": [
    "## Modeling\n",
    "- I will be using accuracy as my evaluation metric\n",
    "- By guessing no for whether every customer will churn, one could achieve and accuracy of 73%\n",
    "- 73% will be my baseline"
   ]
  },
  {
   "cell_type": "code",
   "execution_count": 31,
   "id": "af11a603",
   "metadata": {},
   "outputs": [],
   "source": [
    "# converting dependents column to numbered\n",
    "telco['dependents'] = f.change_int(telco, 'dependents')"
   ]
  },
  {
   "cell_type": "code",
   "execution_count": 32,
   "id": "14762030",
   "metadata": {},
   "outputs": [],
   "source": [
    "# droping contract type and payment type columns\n",
    "telco = f.drop_cols(telco, 'contract_type', 'payment_type', 1)"
   ]
  },
  {
   "cell_type": "code",
   "execution_count": 33,
   "id": "3d90b810",
   "metadata": {},
   "outputs": [],
   "source": [
    "# splitting data into train, validate and test sets\n",
    "train, val, test, X_train, y_train, X_val, y_val, X_test, y_test = f.split_data(telco, 'churn')"
   ]
  },
  {
   "cell_type": "markdown",
   "id": "35b3b0da",
   "metadata": {},
   "source": [
    "## Descision Tree"
   ]
  },
  {
   "cell_type": "code",
   "execution_count": 34,
   "id": "291dab85",
   "metadata": {},
   "outputs": [
    {
     "data": {
      "text/plain": [
       "0.8089249492900609"
      ]
     },
     "execution_count": 34,
     "metadata": {},
     "output_type": "execute_result"
    }
   ],
   "source": [
    "# Descision tree accuracy of train set\n",
    "f.tree_score(X_train, y_train, 6)"
   ]
  },
  {
   "cell_type": "code",
   "execution_count": 35,
   "id": "bb009368",
   "metadata": {},
   "outputs": [
    {
     "data": {
      "text/plain": [
       "0.7935606060606061"
      ]
     },
     "execution_count": 35,
     "metadata": {},
     "output_type": "execute_result"
    }
   ],
   "source": [
    "# Descision tree accuracy of validate set\n",
    "f.tree_score(X_val, y_val, 6)"
   ]
  },
  {
   "cell_type": "markdown",
   "id": "cfa675df",
   "metadata": {},
   "source": [
    "- Accuracy is slightly better on the train set vs the validate set"
   ]
  },
  {
   "cell_type": "markdown",
   "id": "3acae651",
   "metadata": {},
   "source": [
    "## Random Forest Tree"
   ]
  },
  {
   "cell_type": "code",
   "execution_count": 36,
   "id": "ae89d850",
   "metadata": {},
   "outputs": [
    {
     "data": {
      "text/plain": [
       "0.8129817444219067"
      ]
     },
     "execution_count": 36,
     "metadata": {},
     "output_type": "execute_result"
    }
   ],
   "source": [
    "# Random forest tree accuracy of train set\n",
    "f.rfc_score(X_train, y_train, 6)"
   ]
  },
  {
   "cell_type": "code",
   "execution_count": 37,
   "id": "ce6ae264",
   "metadata": {},
   "outputs": [
    {
     "data": {
      "text/plain": [
       "0.8020833333333334"
      ]
     },
     "execution_count": 37,
     "metadata": {},
     "output_type": "execute_result"
    }
   ],
   "source": [
    "# Random forest tree accuracy of validate set\n",
    "f.rfc_score(X_val, y_val, 6)"
   ]
  },
  {
   "cell_type": "markdown",
   "id": "c57133bc",
   "metadata": {},
   "source": [
    "- Accuracy is slightly better on the train set vs the validate set"
   ]
  },
  {
   "cell_type": "markdown",
   "id": "6e59bb2c",
   "metadata": {},
   "source": [
    "## Logistic Regression"
   ]
  },
  {
   "cell_type": "code",
   "execution_count": 38,
   "id": "e5328026",
   "metadata": {},
   "outputs": [
    {
     "data": {
      "text/plain": [
       "0.7943204868154158"
      ]
     },
     "execution_count": 38,
     "metadata": {},
     "output_type": "execute_result"
    }
   ],
   "source": [
    "# Logistic Regression accuracy of train set\n",
    "f.log_reg_score(X_train, y_train, 1)"
   ]
  },
  {
   "cell_type": "code",
   "execution_count": 39,
   "id": "e5cdcca5",
   "metadata": {},
   "outputs": [
    {
     "data": {
      "text/plain": [
       "0.790719696969697"
      ]
     },
     "execution_count": 39,
     "metadata": {},
     "output_type": "execute_result"
    }
   ],
   "source": [
    "# Logistic Regression accuracy of validate set\n",
    "f.log_reg_score(X_val, y_val, 1)"
   ]
  },
  {
   "cell_type": "markdown",
   "id": "b5ee651f",
   "metadata": {},
   "source": [
    "- Accuracy is about the same for both sets"
   ]
  },
  {
   "cell_type": "markdown",
   "id": "0e9d5eb5",
   "metadata": {},
   "source": [
    "## Comparing Models\n",
    "\n",
    "- Decision Tree, Random Forest, and Logistic Regression models all performed about equal to baseline on train and validate\n",
    "- Because the results of the Decision Tree, Random Forest, and Logistic Regression models were all very similar I could proceed to test with any of these models.\n",
    "- I have chosen to move forward with the Random Forest Tree model"
   ]
  },
  {
   "cell_type": "markdown",
   "id": "8b23e57d",
   "metadata": {},
   "source": [
    "## Random Forest Tree Test"
   ]
  },
  {
   "cell_type": "code",
   "execution_count": 41,
   "id": "2a4da605",
   "metadata": {},
   "outputs": [
    {
     "data": {
      "text/plain": [
       "0.7814569536423841"
      ]
     },
     "execution_count": 41,
     "metadata": {},
     "output_type": "execute_result"
    }
   ],
   "source": [
    "# Random forest tree accuracy of Test set\n",
    "f.rfc_score(X_test, y_test, 6)"
   ]
  },
  {
   "cell_type": "markdown",
   "id": "564b5580",
   "metadata": {},
   "source": [
    "## Modeling Summary\n",
    "- The Decision Tree, Random Forest Tree and Logisitic Regression all performed about the same\n",
    "- The Random Forest Tree performed slightly better on the validate sets and outperformed the baseline on the test set."
   ]
  },
  {
   "cell_type": "markdown",
   "id": "469cc7e5",
   "metadata": {},
   "source": [
    "## Conclusions"
   ]
  },
  {
   "cell_type": "markdown",
   "id": "2072e745",
   "metadata": {},
   "source": [
    "### Exploration\n",
    "- Customers with month to month contracts have a significantly higher chance of churning versus other contract types.\n",
    "- Customers who pay with an electronic check have a significantly higher chance of churning versus other forms of payment.\n",
    "- Customers who have dependents have a moderately higher chance of churning versus those who do not.\n",
    "- Customers who's monthly payments are higher have a moderatly higher chance of churning."
   ]
  },
  {
   "cell_type": "markdown",
   "id": "da3a1bc3",
   "metadata": {},
   "source": [
    "### Modeling\n",
    "**The final model out performed the baseline with an accuracy of 78%**\n",
    "- I believe my model will perform very well for determining which customers will churn in the future."
   ]
  },
  {
   "cell_type": "markdown",
   "id": "8f01905f",
   "metadata": {},
   "source": [
    "## Recommendations"
   ]
  },
  {
   "cell_type": "markdown",
   "id": "d9f74f49",
   "metadata": {},
   "source": [
    "- Those with monthly charges of 70 or higher have a much greater chance of churning. Offer deals or decrease price of add-ons to keep customer monthly cost at or below 70\n",
    "- Those with dependents have a higher churn rate than those without. Most likely due to having to open multiple lines and increasing costs. Create a deal where those with multiple lines have a decrease cost per line. "
   ]
  },
  {
   "cell_type": "code",
   "execution_count": null,
   "id": "c60d618b",
   "metadata": {},
   "outputs": [],
   "source": []
  }
 ],
 "metadata": {
  "kernelspec": {
   "display_name": "Python 3 (ipykernel)",
   "language": "python",
   "name": "python3"
  },
  "language_info": {
   "codemirror_mode": {
    "name": "ipython",
    "version": 3
   },
   "file_extension": ".py",
   "mimetype": "text/x-python",
   "name": "python",
   "nbconvert_exporter": "python",
   "pygments_lexer": "ipython3",
   "version": "3.9.13"
  }
 },
 "nbformat": 4,
 "nbformat_minor": 5
}
