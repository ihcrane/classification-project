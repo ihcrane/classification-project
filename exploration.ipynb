{
 "cells": [
  {
   "cell_type": "code",
   "execution_count": 25,
   "id": "31c8a6b5",
   "metadata": {},
   "outputs": [],
   "source": [
    "import pandas as pd\n",
    "import seaborn as sns\n",
    "import numpy as np\n",
    "import matplotlib.pyplot as plt\n",
    "from scipy import stats\n",
    "from sklearn.model_selection import train_test_split\n",
    "import acquire\n",
    "from prepare import train_val_test\n",
    "from env import get_connection\n",
    "\n",
    "import warnings\n",
    "warnings.filterwarnings(\"ignore\")"
   ]
  },
  {
   "cell_type": "code",
   "execution_count": 12,
   "id": "30808ec8",
   "metadata": {},
   "outputs": [],
   "source": [
    "# All imports required to explore the data"
   ]
  },
  {
   "cell_type": "code",
   "execution_count": 67,
   "id": "a84ac9bc",
   "metadata": {},
   "outputs": [
    {
     "data": {
      "text/html": [
       "<div>\n",
       "<style scoped>\n",
       "    .dataframe tbody tr th:only-of-type {\n",
       "        vertical-align: middle;\n",
       "    }\n",
       "\n",
       "    .dataframe tbody tr th {\n",
       "        vertical-align: top;\n",
       "    }\n",
       "\n",
       "    .dataframe thead th {\n",
       "        text-align: right;\n",
       "    }\n",
       "</style>\n",
       "<table border=\"1\" class=\"dataframe\">\n",
       "  <thead>\n",
       "    <tr style=\"text-align: right;\">\n",
       "      <th></th>\n",
       "      <th>payment_type_id</th>\n",
       "      <th>contract_type_id</th>\n",
       "      <th>dependents</th>\n",
       "      <th>tenure</th>\n",
       "      <th>multiple_lines</th>\n",
       "      <th>monthly_charges</th>\n",
       "      <th>total_charges</th>\n",
       "      <th>churn</th>\n",
       "      <th>contract_type</th>\n",
       "      <th>payment_type</th>\n",
       "    </tr>\n",
       "  </thead>\n",
       "  <tbody>\n",
       "    <tr>\n",
       "      <th>0</th>\n",
       "      <td>2</td>\n",
       "      <td>2</td>\n",
       "      <td>Yes</td>\n",
       "      <td>9</td>\n",
       "      <td>No</td>\n",
       "      <td>65.60</td>\n",
       "      <td>593.3</td>\n",
       "      <td>No</td>\n",
       "      <td>One year</td>\n",
       "      <td>Mailed check</td>\n",
       "    </tr>\n",
       "    <tr>\n",
       "      <th>1</th>\n",
       "      <td>2</td>\n",
       "      <td>1</td>\n",
       "      <td>No</td>\n",
       "      <td>9</td>\n",
       "      <td>Yes</td>\n",
       "      <td>59.90</td>\n",
       "      <td>542.4</td>\n",
       "      <td>No</td>\n",
       "      <td>Month-to-month</td>\n",
       "      <td>Mailed check</td>\n",
       "    </tr>\n",
       "    <tr>\n",
       "      <th>2</th>\n",
       "      <td>1</td>\n",
       "      <td>1</td>\n",
       "      <td>No</td>\n",
       "      <td>4</td>\n",
       "      <td>No</td>\n",
       "      <td>73.90</td>\n",
       "      <td>280.85</td>\n",
       "      <td>Yes</td>\n",
       "      <td>Month-to-month</td>\n",
       "      <td>Electronic check</td>\n",
       "    </tr>\n",
       "    <tr>\n",
       "      <th>3</th>\n",
       "      <td>1</td>\n",
       "      <td>1</td>\n",
       "      <td>No</td>\n",
       "      <td>13</td>\n",
       "      <td>No</td>\n",
       "      <td>98.00</td>\n",
       "      <td>1237.85</td>\n",
       "      <td>Yes</td>\n",
       "      <td>Month-to-month</td>\n",
       "      <td>Electronic check</td>\n",
       "    </tr>\n",
       "    <tr>\n",
       "      <th>4</th>\n",
       "      <td>2</td>\n",
       "      <td>1</td>\n",
       "      <td>No</td>\n",
       "      <td>3</td>\n",
       "      <td>No</td>\n",
       "      <td>83.90</td>\n",
       "      <td>267.4</td>\n",
       "      <td>Yes</td>\n",
       "      <td>Month-to-month</td>\n",
       "      <td>Mailed check</td>\n",
       "    </tr>\n",
       "    <tr>\n",
       "      <th>...</th>\n",
       "      <td>...</td>\n",
       "      <td>...</td>\n",
       "      <td>...</td>\n",
       "      <td>...</td>\n",
       "      <td>...</td>\n",
       "      <td>...</td>\n",
       "      <td>...</td>\n",
       "      <td>...</td>\n",
       "      <td>...</td>\n",
       "      <td>...</td>\n",
       "    </tr>\n",
       "    <tr>\n",
       "      <th>7038</th>\n",
       "      <td>2</td>\n",
       "      <td>2</td>\n",
       "      <td>No</td>\n",
       "      <td>13</td>\n",
       "      <td>No</td>\n",
       "      <td>55.15</td>\n",
       "      <td>742.9</td>\n",
       "      <td>No</td>\n",
       "      <td>One year</td>\n",
       "      <td>Mailed check</td>\n",
       "    </tr>\n",
       "    <tr>\n",
       "      <th>7039</th>\n",
       "      <td>1</td>\n",
       "      <td>1</td>\n",
       "      <td>No</td>\n",
       "      <td>22</td>\n",
       "      <td>Yes</td>\n",
       "      <td>85.10</td>\n",
       "      <td>1873.7</td>\n",
       "      <td>Yes</td>\n",
       "      <td>Month-to-month</td>\n",
       "      <td>Electronic check</td>\n",
       "    </tr>\n",
       "    <tr>\n",
       "      <th>7040</th>\n",
       "      <td>2</td>\n",
       "      <td>1</td>\n",
       "      <td>No</td>\n",
       "      <td>2</td>\n",
       "      <td>No</td>\n",
       "      <td>50.30</td>\n",
       "      <td>92.75</td>\n",
       "      <td>No</td>\n",
       "      <td>Month-to-month</td>\n",
       "      <td>Mailed check</td>\n",
       "    </tr>\n",
       "    <tr>\n",
       "      <th>7041</th>\n",
       "      <td>2</td>\n",
       "      <td>3</td>\n",
       "      <td>Yes</td>\n",
       "      <td>67</td>\n",
       "      <td>No</td>\n",
       "      <td>67.85</td>\n",
       "      <td>4627.65</td>\n",
       "      <td>No</td>\n",
       "      <td>Two year</td>\n",
       "      <td>Mailed check</td>\n",
       "    </tr>\n",
       "    <tr>\n",
       "      <th>7042</th>\n",
       "      <td>1</td>\n",
       "      <td>3</td>\n",
       "      <td>Yes</td>\n",
       "      <td>63</td>\n",
       "      <td>No phone service</td>\n",
       "      <td>59.00</td>\n",
       "      <td>3707.6</td>\n",
       "      <td>No</td>\n",
       "      <td>Two year</td>\n",
       "      <td>Electronic check</td>\n",
       "    </tr>\n",
       "  </tbody>\n",
       "</table>\n",
       "<p>7043 rows × 10 columns</p>\n",
       "</div>"
      ],
      "text/plain": [
       "      payment_type_id  contract_type_id dependents  tenure    multiple_lines  \\\n",
       "0                   2                 2        Yes       9                No   \n",
       "1                   2                 1         No       9               Yes   \n",
       "2                   1                 1         No       4                No   \n",
       "3                   1                 1         No      13                No   \n",
       "4                   2                 1         No       3                No   \n",
       "...               ...               ...        ...     ...               ...   \n",
       "7038                2                 2         No      13                No   \n",
       "7039                1                 1         No      22               Yes   \n",
       "7040                2                 1         No       2                No   \n",
       "7041                2                 3        Yes      67                No   \n",
       "7042                1                 3        Yes      63  No phone service   \n",
       "\n",
       "      monthly_charges total_charges churn   contract_type      payment_type  \n",
       "0               65.60         593.3    No        One year      Mailed check  \n",
       "1               59.90         542.4    No  Month-to-month      Mailed check  \n",
       "2               73.90        280.85   Yes  Month-to-month  Electronic check  \n",
       "3               98.00       1237.85   Yes  Month-to-month  Electronic check  \n",
       "4               83.90         267.4   Yes  Month-to-month      Mailed check  \n",
       "...               ...           ...   ...             ...               ...  \n",
       "7038            55.15         742.9    No        One year      Mailed check  \n",
       "7039            85.10        1873.7   Yes  Month-to-month  Electronic check  \n",
       "7040            50.30         92.75    No  Month-to-month      Mailed check  \n",
       "7041            67.85       4627.65    No        Two year      Mailed check  \n",
       "7042            59.00        3707.6    No        Two year  Electronic check  \n",
       "\n",
       "[7043 rows x 10 columns]"
      ]
     },
     "execution_count": 67,
     "metadata": {},
     "output_type": "execute_result"
    }
   ],
   "source": [
    "telco = acquire.get_telco_data(get_connection)\n",
    "telco = telco.drop(['Unnamed: 0','gender', 'senior_citizen', 'partner', 'phone_service', 'tech_support', 'streaming_tv', \n",
    "                    'streaming_movies', 'paperless_billing', 'internet_service_type', 'online_security', 'online_backup', \n",
    "                    'device_protection', 'internet_service_type_id', 'customer_id'], axis =1)\n",
    "telco\n",
    "# Aquiring the Telco data and dropping unnecessary columns to give a dataframe containing the dataset"
   ]
  },
  {
   "cell_type": "code",
   "execution_count": 20,
   "id": "10578c32",
   "metadata": {},
   "outputs": [
    {
     "name": "stdout",
     "output_type": "stream",
     "text": [
      "Comparing relationship between churn and payment_type_id\n",
      "648.1423274814 3.6823546520097993e-140\n",
      "------------------\n",
      "Comparing relationship between churn and contract_type_id\n",
      "1184.5965720837926 5.863038300673391e-258\n",
      "------------------\n",
      "Comparing relationship between churn and dependents\n",
      "189.12924940423474 4.9249216612154196e-43\n",
      "------------------\n",
      "Comparing relationship between churn and multiple_lines\n",
      "11.33044148319756 0.0034643829548773\n",
      "------------------\n"
     ]
    }
   ],
   "source": [
    "combos = (['payment_type_id', 'contract_type_id', 'dependents', 'multiple_lines'])\n",
    "for var in combos:\n",
    "    chi2, p, degf, expected = chi2, p, degf, expected = stats.chi2_contingency(pd.crosstab(telco['churn'], telco[var]))\n",
    "    if p <= .05:\n",
    "        print(f'Comparing relationship between churn and {var}')\n",
    "        print(chi2, p)\n",
    "        print('------------------')\n",
    "        \n",
    "# Using a chi2 test to determine the main drivers behind the churn at Telco \n",
    "# Does not include payments yet, have to drop na and make a seperate test below"
   ]
  },
  {
   "cell_type": "code",
   "execution_count": 22,
   "id": "cfc13d4d",
   "metadata": {},
   "outputs": [],
   "source": [
    "telco = telco.dropna()\n",
    "telco['total_charges'] = telco['total_charges'].replace(' ', 0).astype(float)\n",
    "# Dropping any null values and converting all the remaining numbers into floats\n",
    "# Makes it easier to use stats to ttest the charges and churn"
   ]
  },
  {
   "cell_type": "code",
   "execution_count": 24,
   "id": "a34ad150",
   "metadata": {},
   "outputs": [
    {
     "name": "stdout",
     "output_type": "stream",
     "text": [
      "Comparing relationship between churn and monthly_charges\n",
      "18.407526676414673 8.59244933154705e-73\n",
      "------------------\n",
      "Comparing relationship between churn and total_charges\n",
      "-18.70661828817703 5.902580609073978e-75\n",
      "------------------\n"
     ]
    }
   ],
   "source": [
    "combos2 = ['monthly_charges', 'total_charges']\n",
    "for var in combos2:\n",
    "    churn = telco[telco['churn'] == 'Yes'][var]\n",
    "    not_churned = telco[telco['churn'] == 'No'][var]\n",
    "    t, p = stats.ttest_ind(churn, not_churned, equal_var = False)\n",
    "    print(f'Comparing relationship between churn and {var}')\n",
    "    print(t, p)\n",
    "    print('------------------')\n",
    "\n",
    "# T test for the charges because they we are comparing a catagorical variable to a continuous one\n",
    "# The code will print the results in a similar format to the chi2 test above"
   ]
  },
  {
   "cell_type": "code",
   "execution_count": 35,
   "id": "e261bd68",
   "metadata": {},
   "outputs": [],
   "source": [
    "train, val, test = train_val_test(telco, 'churn')"
   ]
  },
  {
   "cell_type": "code",
   "execution_count": 36,
   "id": "88236bd9",
   "metadata": {},
   "outputs": [],
   "source": [
    "X_train = train.drop(columns='churn')\n",
    "y_train = train['churn']\n",
    "\n",
    "X_val = val.drop(columns='churn')\n",
    "y_val = val['churn']\n",
    "\n",
    "X_test = test.drop(columns='churn')\n",
    "y_test = test['churn']\n",
    "# Creating splits for the data"
   ]
  },
  {
   "cell_type": "code",
   "execution_count": 37,
   "id": "9415a3b0",
   "metadata": {},
   "outputs": [
    {
     "data": {
      "text/html": [
       "<div>\n",
       "<style scoped>\n",
       "    .dataframe tbody tr th:only-of-type {\n",
       "        vertical-align: middle;\n",
       "    }\n",
       "\n",
       "    .dataframe tbody tr th {\n",
       "        vertical-align: top;\n",
       "    }\n",
       "\n",
       "    .dataframe thead th {\n",
       "        text-align: right;\n",
       "    }\n",
       "</style>\n",
       "<table border=\"1\" class=\"dataframe\">\n",
       "  <thead>\n",
       "    <tr style=\"text-align: right;\">\n",
       "      <th></th>\n",
       "      <th>payment_type_id</th>\n",
       "      <th>contract_type_id</th>\n",
       "      <th>dependents</th>\n",
       "      <th>tenure</th>\n",
       "      <th>multiple_lines</th>\n",
       "      <th>monthly_charges</th>\n",
       "      <th>total_charges</th>\n",
       "      <th>churn</th>\n",
       "      <th>contract_type</th>\n",
       "      <th>payment_type</th>\n",
       "    </tr>\n",
       "  </thead>\n",
       "  <tbody>\n",
       "    <tr>\n",
       "      <th>5609</th>\n",
       "      <td>1</td>\n",
       "      <td>1</td>\n",
       "      <td>No</td>\n",
       "      <td>14</td>\n",
       "      <td>No</td>\n",
       "      <td>76.45</td>\n",
       "      <td>1117.55</td>\n",
       "      <td>No</td>\n",
       "      <td>Month-to-month</td>\n",
       "      <td>Electronic check</td>\n",
       "    </tr>\n",
       "    <tr>\n",
       "      <th>2209</th>\n",
       "      <td>2</td>\n",
       "      <td>2</td>\n",
       "      <td>No</td>\n",
       "      <td>5</td>\n",
       "      <td>No</td>\n",
       "      <td>70.00</td>\n",
       "      <td>347.40</td>\n",
       "      <td>Yes</td>\n",
       "      <td>One year</td>\n",
       "      <td>Mailed check</td>\n",
       "    </tr>\n",
       "    <tr>\n",
       "      <th>6919</th>\n",
       "      <td>1</td>\n",
       "      <td>1</td>\n",
       "      <td>No</td>\n",
       "      <td>35</td>\n",
       "      <td>Yes</td>\n",
       "      <td>75.20</td>\n",
       "      <td>2576.20</td>\n",
       "      <td>Yes</td>\n",
       "      <td>Month-to-month</td>\n",
       "      <td>Electronic check</td>\n",
       "    </tr>\n",
       "    <tr>\n",
       "      <th>2284</th>\n",
       "      <td>1</td>\n",
       "      <td>3</td>\n",
       "      <td>No</td>\n",
       "      <td>58</td>\n",
       "      <td>Yes</td>\n",
       "      <td>86.10</td>\n",
       "      <td>4890.50</td>\n",
       "      <td>No</td>\n",
       "      <td>Two year</td>\n",
       "      <td>Electronic check</td>\n",
       "    </tr>\n",
       "    <tr>\n",
       "      <th>845</th>\n",
       "      <td>2</td>\n",
       "      <td>1</td>\n",
       "      <td>No</td>\n",
       "      <td>2</td>\n",
       "      <td>No</td>\n",
       "      <td>49.60</td>\n",
       "      <td>114.70</td>\n",
       "      <td>Yes</td>\n",
       "      <td>Month-to-month</td>\n",
       "      <td>Mailed check</td>\n",
       "    </tr>\n",
       "  </tbody>\n",
       "</table>\n",
       "</div>"
      ],
      "text/plain": [
       "      payment_type_id  contract_type_id dependents  tenure multiple_lines  \\\n",
       "5609                1                 1         No      14             No   \n",
       "2209                2                 2         No       5             No   \n",
       "6919                1                 1         No      35            Yes   \n",
       "2284                1                 3         No      58            Yes   \n",
       "845                 2                 1         No       2             No   \n",
       "\n",
       "      monthly_charges  total_charges churn   contract_type      payment_type  \n",
       "5609            76.45        1117.55    No  Month-to-month  Electronic check  \n",
       "2209            70.00         347.40   Yes        One year      Mailed check  \n",
       "6919            75.20        2576.20   Yes  Month-to-month  Electronic check  \n",
       "2284            86.10        4890.50    No        Two year  Electronic check  \n",
       "845             49.60         114.70   Yes  Month-to-month      Mailed check  "
      ]
     },
     "execution_count": 37,
     "metadata": {},
     "output_type": "execute_result"
    }
   ],
   "source": [
    "train.head()"
   ]
  },
  {
   "cell_type": "code",
   "execution_count": 38,
   "id": "48db7c81",
   "metadata": {},
   "outputs": [
    {
     "data": {
      "text/plain": [
       "<AxesSubplot:xlabel='contract_type', ylabel='count'>"
      ]
     },
     "execution_count": 38,
     "metadata": {},
     "output_type": "execute_result"
    },
    {
     "data": {
      "image/png": "[encoded data removed]",
      "text/plain": [
       "<Figure size 640x480 with 1 Axes>"
      ]
     },
     "metadata": {},
     "output_type": "display_data"
    }
   ],
   "source": [
    "sns.countplot(x = train['contract_type'], hue = train['churn'])\n",
    "# Creating a count plot for contract_type hued by churn to visualize churn by each contract type"
   ]
  },
  {
   "cell_type": "code",
   "execution_count": 66,
   "id": "14eaf0a8",
   "metadata": {},
   "outputs": [
    {
     "data": {
      "text/plain": [
       "<AxesSubplot:xlabel='count', ylabel='payment_type'>"
      ]
     },
     "execution_count": 66,
     "metadata": {},
     "output_type": "execute_result"
    },
    {
     "data": {
      "image/png": "[encoded data removed]",
      "text/plain": [
       "<Figure size 640x480 with 1 Axes>"
      ]
     },
     "metadata": {},
     "output_type": "display_data"
    }
   ],
   "source": [
    "sns.countplot(y = train['payment_type'], hue = train['churn'])\n",
    "#Count Plot that visualizes payment_type and the count of churn within each type of payment"
   ]
  },
  {
   "cell_type": "code",
   "execution_count": 65,
   "id": "81bb9684",
   "metadata": {},
   "outputs": [
    {
     "data": {
      "text/plain": [
       "<AxesSubplot:xlabel='dependents', ylabel='count'>"
      ]
     },
     "execution_count": 65,
     "metadata": {},
     "output_type": "execute_result"
    },
    {
     "data": {
      "image/png": "[encoded data removed]",
      "text/plain": [
       "<Figure size 640x480 with 1 Axes>"
      ]
     },
     "metadata": {},
     "output_type": "display_data"
    }
   ],
   "source": [
    "sns.countplot(x = train['dependents'], hue = train['churn'])\n",
    "# Countplot for dependents"
   ]
  },
  {
   "cell_type": "code",
   "execution_count": 53,
   "id": "5abb96f0",
   "metadata": {},
   "outputs": [
    {
     "data": {
      "text/plain": [
       "61.7664549972391"
      ]
     },
     "execution_count": 53,
     "metadata": {},
     "output_type": "execute_result"
    }
   ],
   "source": [
    "train[train.churn == 'No']['monthly_charges'].mean()"
   ]
  },
  {
   "cell_type": "code",
   "execution_count": 54,
   "id": "e40467c6",
   "metadata": {},
   "outputs": [
    {
     "data": {
      "text/plain": [
       "74.37148318042807"
      ]
     },
     "execution_count": 54,
     "metadata": {},
     "output_type": "execute_result"
    }
   ],
   "source": [
    "train[train.churn == 'Yes']['monthly_charges'].mean()"
   ]
  },
  {
   "cell_type": "code",
   "execution_count": 59,
   "id": "6c728672",
   "metadata": {},
   "outputs": [],
   "source": [
    "churn = train[train['churn'] == 'Yes']['monthly_charges']\n",
    "not_churned = train[train['churn'] =='No']['monthly_charges']\n",
    "# Creating alias for histogram of monthly charges"
   ]
  },
  {
   "cell_type": "code",
   "execution_count": 60,
   "id": "014b21ca",
   "metadata": {},
   "outputs": [
    {
     "data": {
      "image/png": "[encoded data removed]",
      "text/plain": [
       "<Figure size 640x480 with 1 Axes>"
      ]
     },
     "metadata": {},
     "output_type": "display_data"
    }
   ],
   "source": [
    "plt.hist(x = churn, color = 'blue', alpha = .5, edgecolor = 'black', label = 'churned')\n",
    "plt.hist(x = not_churned, color = 'red', alpha = .1, edgecolor = 'black', label = 'not churned')\n",
    "plt.legend(loc = 'upper right')\n",
    "plt.xlabel('Monthly Charges')\n",
    "plt.ylabel('Number of Customers')\n",
    "plt.title('Churn Based on Monthly Charges')\n",
    "plt.show()\n",
    "# Creating two histograms to overlay on each other using monthly charges\n",
    "# Seperated by churn status"
   ]
  },
  {
   "cell_type": "code",
   "execution_count": 61,
   "id": "4a6ebf9e",
   "metadata": {},
   "outputs": [
    {
     "data": {
      "text/plain": [
       "2590.3230121479837"
      ]
     },
     "execution_count": 61,
     "metadata": {},
     "output_type": "execute_result"
    }
   ],
   "source": [
    "train[train.churn == 'No']['total_charges'].mean()"
   ]
  },
  {
   "cell_type": "code",
   "execution_count": 58,
   "id": "f0294005",
   "metadata": {},
   "outputs": [
    {
     "data": {
      "text/plain": [
       "1521.983906727829"
      ]
     },
     "execution_count": 58,
     "metadata": {},
     "output_type": "execute_result"
    }
   ],
   "source": [
    "train[train.churn == 'Yes']['total_charges'].mean()"
   ]
  },
  {
   "cell_type": "code",
   "execution_count": 62,
   "id": "750216d5",
   "metadata": {},
   "outputs": [],
   "source": [
    "churn = train[train['churn'] == 'Yes']['total_charges']\n",
    "not_churned = train[train['churn'] =='No']['total_charges']\n",
    "# Creating alias for histogram of monthly charges"
   ]
  },
  {
   "cell_type": "code",
   "execution_count": 63,
   "id": "4a0d7cbf",
   "metadata": {},
   "outputs": [
    {
     "data": {
      "image/png": "[encoded data removed]",
      "text/plain": [
       "<Figure size 640x480 with 1 Axes>"
      ]
     },
     "metadata": {},
     "output_type": "display_data"
    }
   ],
   "source": [
    "plt.hist(x = churn, color = 'blue', alpha = .5, edgecolor = 'black', label = 'churned')\n",
    "plt.hist(x = not_churned, color = 'red', alpha = .1, edgecolor = 'black', label = 'not churned')\n",
    "plt.legend(loc = 'upper right')\n",
    "plt.xlabel('Total Charges')\n",
    "plt.ylabel('Number of Customers')\n",
    "plt.title('Churn Based on Total Charges')\n",
    "plt.show()\n",
    "# Creating two histograms to overlay on each other using monthly charges\n",
    "# Seperated by churn status"
   ]
  },
  {
   "cell_type": "code",
   "execution_count": 64,
   "id": "735dd2f7",
   "metadata": {},
   "outputs": [],
   "source": [
    "# Churn based on total charges proves unhelpful"
   ]
  },
  {
   "cell_type": "code",
   "execution_count": null,
   "id": "07186358",
   "metadata": {},
   "outputs": [],
   "source": []
  }
 ],
 "metadata": {
  "kernelspec": {
   "display_name": "Python 3 (ipykernel)",
   "language": "python",
   "name": "python3"
  },
  "language_info": {
   "codemirror_mode": {
    "name": "ipython",
    "version": 3
   },
   "file_extension": ".py",
   "mimetype": "text/x-python",
   "name": "python",
   "nbconvert_exporter": "python",
   "pygments_lexer": "ipython3",
   "version": "3.9.13"
  }
 },
 "nbformat": 4,
 "nbformat_minor": 5
}
