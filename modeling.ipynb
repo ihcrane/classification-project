{
 "cells": [
  {
   "cell_type": "code",
   "execution_count": 2,
   "id": "78d3174b",
   "metadata": {},
   "outputs": [],
   "source": [
    "import pandas as pd\n",
    "import seaborn as sns\n",
    "import numpy as np\n",
    "import matplotlib.pyplot as plt\n",
    "from scipy import stats\n",
    "import acquire\n",
    "from env import get_connection\n",
    "from prepare import train_val_test\n",
    "import warnings\n",
    "warnings.filterwarnings(\"ignore\")\n",
    "from sklearn.tree import DecisionTreeClassifier, plot_tree\n",
    "from sklearn.metrics import classification_report\n",
    "from sklearn.metrics import confusion_matrix\n",
    "from sklearn.ensemble import RandomForestClassifier\n",
    "from sklearn.linear_model import LogisticRegression"
   ]
  },
  {
   "cell_type": "code",
   "execution_count": 8,
   "id": "78aa0db9",
   "metadata": {},
   "outputs": [
    {
     "data": {
      "text/html": [
       "<div>\n",
       "<style scoped>\n",
       "    .dataframe tbody tr th:only-of-type {\n",
       "        vertical-align: middle;\n",
       "    }\n",
       "\n",
       "    .dataframe tbody tr th {\n",
       "        vertical-align: top;\n",
       "    }\n",
       "\n",
       "    .dataframe thead th {\n",
       "        text-align: right;\n",
       "    }\n",
       "</style>\n",
       "<table border=\"1\" class=\"dataframe\">\n",
       "  <thead>\n",
       "    <tr style=\"text-align: right;\">\n",
       "      <th></th>\n",
       "      <th>payment_type_id</th>\n",
       "      <th>contract_type_id</th>\n",
       "      <th>dependents</th>\n",
       "      <th>tenure</th>\n",
       "      <th>multiple_lines</th>\n",
       "      <th>monthly_charges</th>\n",
       "      <th>total_charges</th>\n",
       "      <th>churn</th>\n",
       "    </tr>\n",
       "  </thead>\n",
       "  <tbody>\n",
       "    <tr>\n",
       "      <th>0</th>\n",
       "      <td>2</td>\n",
       "      <td>2</td>\n",
       "      <td>Yes</td>\n",
       "      <td>9</td>\n",
       "      <td>No</td>\n",
       "      <td>65.60</td>\n",
       "      <td>593.3</td>\n",
       "      <td>No</td>\n",
       "    </tr>\n",
       "    <tr>\n",
       "      <th>1</th>\n",
       "      <td>2</td>\n",
       "      <td>1</td>\n",
       "      <td>No</td>\n",
       "      <td>9</td>\n",
       "      <td>Yes</td>\n",
       "      <td>59.90</td>\n",
       "      <td>542.4</td>\n",
       "      <td>No</td>\n",
       "    </tr>\n",
       "    <tr>\n",
       "      <th>2</th>\n",
       "      <td>1</td>\n",
       "      <td>1</td>\n",
       "      <td>No</td>\n",
       "      <td>4</td>\n",
       "      <td>No</td>\n",
       "      <td>73.90</td>\n",
       "      <td>280.85</td>\n",
       "      <td>Yes</td>\n",
       "    </tr>\n",
       "    <tr>\n",
       "      <th>3</th>\n",
       "      <td>1</td>\n",
       "      <td>1</td>\n",
       "      <td>No</td>\n",
       "      <td>13</td>\n",
       "      <td>No</td>\n",
       "      <td>98.00</td>\n",
       "      <td>1237.85</td>\n",
       "      <td>Yes</td>\n",
       "    </tr>\n",
       "    <tr>\n",
       "      <th>4</th>\n",
       "      <td>2</td>\n",
       "      <td>1</td>\n",
       "      <td>No</td>\n",
       "      <td>3</td>\n",
       "      <td>No</td>\n",
       "      <td>83.90</td>\n",
       "      <td>267.4</td>\n",
       "      <td>Yes</td>\n",
       "    </tr>\n",
       "    <tr>\n",
       "      <th>...</th>\n",
       "      <td>...</td>\n",
       "      <td>...</td>\n",
       "      <td>...</td>\n",
       "      <td>...</td>\n",
       "      <td>...</td>\n",
       "      <td>...</td>\n",
       "      <td>...</td>\n",
       "      <td>...</td>\n",
       "    </tr>\n",
       "    <tr>\n",
       "      <th>7038</th>\n",
       "      <td>2</td>\n",
       "      <td>2</td>\n",
       "      <td>No</td>\n",
       "      <td>13</td>\n",
       "      <td>No</td>\n",
       "      <td>55.15</td>\n",
       "      <td>742.9</td>\n",
       "      <td>No</td>\n",
       "    </tr>\n",
       "    <tr>\n",
       "      <th>7039</th>\n",
       "      <td>1</td>\n",
       "      <td>1</td>\n",
       "      <td>No</td>\n",
       "      <td>22</td>\n",
       "      <td>Yes</td>\n",
       "      <td>85.10</td>\n",
       "      <td>1873.7</td>\n",
       "      <td>Yes</td>\n",
       "    </tr>\n",
       "    <tr>\n",
       "      <th>7040</th>\n",
       "      <td>2</td>\n",
       "      <td>1</td>\n",
       "      <td>No</td>\n",
       "      <td>2</td>\n",
       "      <td>No</td>\n",
       "      <td>50.30</td>\n",
       "      <td>92.75</td>\n",
       "      <td>No</td>\n",
       "    </tr>\n",
       "    <tr>\n",
       "      <th>7041</th>\n",
       "      <td>2</td>\n",
       "      <td>3</td>\n",
       "      <td>Yes</td>\n",
       "      <td>67</td>\n",
       "      <td>No</td>\n",
       "      <td>67.85</td>\n",
       "      <td>4627.65</td>\n",
       "      <td>No</td>\n",
       "    </tr>\n",
       "    <tr>\n",
       "      <th>7042</th>\n",
       "      <td>1</td>\n",
       "      <td>3</td>\n",
       "      <td>Yes</td>\n",
       "      <td>63</td>\n",
       "      <td>No phone service</td>\n",
       "      <td>59.00</td>\n",
       "      <td>3707.6</td>\n",
       "      <td>No</td>\n",
       "    </tr>\n",
       "  </tbody>\n",
       "</table>\n",
       "<p>7043 rows × 8 columns</p>\n",
       "</div>"
      ],
      "text/plain": [
       "      payment_type_id  contract_type_id dependents  tenure    multiple_lines  \\\n",
       "0                   2                 2        Yes       9                No   \n",
       "1                   2                 1         No       9               Yes   \n",
       "2                   1                 1         No       4                No   \n",
       "3                   1                 1         No      13                No   \n",
       "4                   2                 1         No       3                No   \n",
       "...               ...               ...        ...     ...               ...   \n",
       "7038                2                 2         No      13                No   \n",
       "7039                1                 1         No      22               Yes   \n",
       "7040                2                 1         No       2                No   \n",
       "7041                2                 3        Yes      67                No   \n",
       "7042                1                 3        Yes      63  No phone service   \n",
       "\n",
       "      monthly_charges total_charges churn  \n",
       "0               65.60         593.3    No  \n",
       "1               59.90         542.4    No  \n",
       "2               73.90        280.85   Yes  \n",
       "3               98.00       1237.85   Yes  \n",
       "4               83.90         267.4   Yes  \n",
       "...               ...           ...   ...  \n",
       "7038            55.15         742.9    No  \n",
       "7039            85.10        1873.7   Yes  \n",
       "7040            50.30         92.75    No  \n",
       "7041            67.85       4627.65    No  \n",
       "7042            59.00        3707.6    No  \n",
       "\n",
       "[7043 rows x 8 columns]"
      ]
     },
     "execution_count": 8,
     "metadata": {},
     "output_type": "execute_result"
    }
   ],
   "source": [
    "telco = acquire.get_telco_data(get_connection)\n",
    "telco = telco.drop(['Unnamed: 0','gender', 'senior_citizen', 'partner', 'phone_service', 'tech_support', 'streaming_tv', \n",
    "                    'streaming_movies', 'paperless_billing', 'internet_service_type', 'online_security', 'online_backup', \n",
    "                    'device_protection', 'internet_service_type_id', 'customer_id', 'contract_type', 'payment_type'], axis =1)\n",
    "telco\n",
    "# Aquiring the Telco data and dropping unnecessary columns to give a dataframe containing the dataset"
   ]
  },
  {
   "cell_type": "code",
   "execution_count": 9,
   "id": "486c845e",
   "metadata": {},
   "outputs": [],
   "source": [
    "telco = telco.dropna()\n",
    "telco['total_charges'] = telco['total_charges'].replace(' ', 0).astype(float)\n",
    "# Dropping any null values and converting all the remaining numbers into floats\n",
    "# Makes it easier to use stats to ttest the charges and churn"
   ]
  },
  {
   "cell_type": "code",
   "execution_count": 10,
   "id": "77c302cd",
   "metadata": {},
   "outputs": [
    {
     "data": {
      "text/html": [
       "<div>\n",
       "<style scoped>\n",
       "    .dataframe tbody tr th:only-of-type {\n",
       "        vertical-align: middle;\n",
       "    }\n",
       "\n",
       "    .dataframe tbody tr th {\n",
       "        vertical-align: top;\n",
       "    }\n",
       "\n",
       "    .dataframe thead th {\n",
       "        text-align: right;\n",
       "    }\n",
       "</style>\n",
       "<table border=\"1\" class=\"dataframe\">\n",
       "  <thead>\n",
       "    <tr style=\"text-align: right;\">\n",
       "      <th></th>\n",
       "      <th>payment_type_id</th>\n",
       "      <th>contract_type_id</th>\n",
       "      <th>dependents</th>\n",
       "      <th>tenure</th>\n",
       "      <th>multiple_lines</th>\n",
       "      <th>monthly_charges</th>\n",
       "      <th>total_charges</th>\n",
       "      <th>churn</th>\n",
       "    </tr>\n",
       "  </thead>\n",
       "  <tbody>\n",
       "    <tr>\n",
       "      <th>0</th>\n",
       "      <td>2</td>\n",
       "      <td>2</td>\n",
       "      <td>1</td>\n",
       "      <td>9</td>\n",
       "      <td>No</td>\n",
       "      <td>65.60</td>\n",
       "      <td>593.30</td>\n",
       "      <td>No</td>\n",
       "    </tr>\n",
       "    <tr>\n",
       "      <th>1</th>\n",
       "      <td>2</td>\n",
       "      <td>1</td>\n",
       "      <td>0</td>\n",
       "      <td>9</td>\n",
       "      <td>Yes</td>\n",
       "      <td>59.90</td>\n",
       "      <td>542.40</td>\n",
       "      <td>No</td>\n",
       "    </tr>\n",
       "    <tr>\n",
       "      <th>2</th>\n",
       "      <td>1</td>\n",
       "      <td>1</td>\n",
       "      <td>0</td>\n",
       "      <td>4</td>\n",
       "      <td>No</td>\n",
       "      <td>73.90</td>\n",
       "      <td>280.85</td>\n",
       "      <td>Yes</td>\n",
       "    </tr>\n",
       "    <tr>\n",
       "      <th>3</th>\n",
       "      <td>1</td>\n",
       "      <td>1</td>\n",
       "      <td>0</td>\n",
       "      <td>13</td>\n",
       "      <td>No</td>\n",
       "      <td>98.00</td>\n",
       "      <td>1237.85</td>\n",
       "      <td>Yes</td>\n",
       "    </tr>\n",
       "    <tr>\n",
       "      <th>4</th>\n",
       "      <td>2</td>\n",
       "      <td>1</td>\n",
       "      <td>0</td>\n",
       "      <td>3</td>\n",
       "      <td>No</td>\n",
       "      <td>83.90</td>\n",
       "      <td>267.40</td>\n",
       "      <td>Yes</td>\n",
       "    </tr>\n",
       "    <tr>\n",
       "      <th>...</th>\n",
       "      <td>...</td>\n",
       "      <td>...</td>\n",
       "      <td>...</td>\n",
       "      <td>...</td>\n",
       "      <td>...</td>\n",
       "      <td>...</td>\n",
       "      <td>...</td>\n",
       "      <td>...</td>\n",
       "    </tr>\n",
       "    <tr>\n",
       "      <th>7038</th>\n",
       "      <td>2</td>\n",
       "      <td>2</td>\n",
       "      <td>0</td>\n",
       "      <td>13</td>\n",
       "      <td>No</td>\n",
       "      <td>55.15</td>\n",
       "      <td>742.90</td>\n",
       "      <td>No</td>\n",
       "    </tr>\n",
       "    <tr>\n",
       "      <th>7039</th>\n",
       "      <td>1</td>\n",
       "      <td>1</td>\n",
       "      <td>0</td>\n",
       "      <td>22</td>\n",
       "      <td>Yes</td>\n",
       "      <td>85.10</td>\n",
       "      <td>1873.70</td>\n",
       "      <td>Yes</td>\n",
       "    </tr>\n",
       "    <tr>\n",
       "      <th>7040</th>\n",
       "      <td>2</td>\n",
       "      <td>1</td>\n",
       "      <td>0</td>\n",
       "      <td>2</td>\n",
       "      <td>No</td>\n",
       "      <td>50.30</td>\n",
       "      <td>92.75</td>\n",
       "      <td>No</td>\n",
       "    </tr>\n",
       "    <tr>\n",
       "      <th>7041</th>\n",
       "      <td>2</td>\n",
       "      <td>3</td>\n",
       "      <td>1</td>\n",
       "      <td>67</td>\n",
       "      <td>No</td>\n",
       "      <td>67.85</td>\n",
       "      <td>4627.65</td>\n",
       "      <td>No</td>\n",
       "    </tr>\n",
       "    <tr>\n",
       "      <th>7042</th>\n",
       "      <td>1</td>\n",
       "      <td>3</td>\n",
       "      <td>1</td>\n",
       "      <td>63</td>\n",
       "      <td>No phone service</td>\n",
       "      <td>59.00</td>\n",
       "      <td>3707.60</td>\n",
       "      <td>No</td>\n",
       "    </tr>\n",
       "  </tbody>\n",
       "</table>\n",
       "<p>7043 rows × 8 columns</p>\n",
       "</div>"
      ],
      "text/plain": [
       "      payment_type_id  contract_type_id  dependents  tenure    multiple_lines  \\\n",
       "0                   2                 2           1       9                No   \n",
       "1                   2                 1           0       9               Yes   \n",
       "2                   1                 1           0       4                No   \n",
       "3                   1                 1           0      13                No   \n",
       "4                   2                 1           0       3                No   \n",
       "...               ...               ...         ...     ...               ...   \n",
       "7038                2                 2           0      13                No   \n",
       "7039                1                 1           0      22               Yes   \n",
       "7040                2                 1           0       2                No   \n",
       "7041                2                 3           1      67                No   \n",
       "7042                1                 3           1      63  No phone service   \n",
       "\n",
       "      monthly_charges  total_charges churn  \n",
       "0               65.60         593.30    No  \n",
       "1               59.90         542.40    No  \n",
       "2               73.90         280.85   Yes  \n",
       "3               98.00        1237.85   Yes  \n",
       "4               83.90         267.40   Yes  \n",
       "...               ...            ...   ...  \n",
       "7038            55.15         742.90    No  \n",
       "7039            85.10        1873.70   Yes  \n",
       "7040            50.30          92.75    No  \n",
       "7041            67.85        4627.65    No  \n",
       "7042            59.00        3707.60    No  \n",
       "\n",
       "[7043 rows x 8 columns]"
      ]
     },
     "execution_count": 10,
     "metadata": {},
     "output_type": "execute_result"
    }
   ],
   "source": [
    "telco['dependents'] = np.where(telco['dependents'] == 'Yes', 1, 0)\n",
    "telco"
   ]
  },
  {
   "cell_type": "code",
   "execution_count": 11,
   "id": "dfa5d3aa",
   "metadata": {},
   "outputs": [
    {
     "data": {
      "text/html": [
       "<div>\n",
       "<style scoped>\n",
       "    .dataframe tbody tr th:only-of-type {\n",
       "        vertical-align: middle;\n",
       "    }\n",
       "\n",
       "    .dataframe tbody tr th {\n",
       "        vertical-align: top;\n",
       "    }\n",
       "\n",
       "    .dataframe thead th {\n",
       "        text-align: right;\n",
       "    }\n",
       "</style>\n",
       "<table border=\"1\" class=\"dataframe\">\n",
       "  <thead>\n",
       "    <tr style=\"text-align: right;\">\n",
       "      <th></th>\n",
       "      <th>payment_type_id</th>\n",
       "      <th>contract_type_id</th>\n",
       "      <th>dependents</th>\n",
       "      <th>tenure</th>\n",
       "      <th>multiple_lines</th>\n",
       "      <th>monthly_charges</th>\n",
       "      <th>total_charges</th>\n",
       "      <th>churn</th>\n",
       "    </tr>\n",
       "  </thead>\n",
       "  <tbody>\n",
       "    <tr>\n",
       "      <th>0</th>\n",
       "      <td>2</td>\n",
       "      <td>2</td>\n",
       "      <td>1</td>\n",
       "      <td>9</td>\n",
       "      <td>0</td>\n",
       "      <td>65.60</td>\n",
       "      <td>593.30</td>\n",
       "      <td>No</td>\n",
       "    </tr>\n",
       "    <tr>\n",
       "      <th>1</th>\n",
       "      <td>2</td>\n",
       "      <td>1</td>\n",
       "      <td>0</td>\n",
       "      <td>9</td>\n",
       "      <td>1</td>\n",
       "      <td>59.90</td>\n",
       "      <td>542.40</td>\n",
       "      <td>No</td>\n",
       "    </tr>\n",
       "    <tr>\n",
       "      <th>2</th>\n",
       "      <td>1</td>\n",
       "      <td>1</td>\n",
       "      <td>0</td>\n",
       "      <td>4</td>\n",
       "      <td>0</td>\n",
       "      <td>73.90</td>\n",
       "      <td>280.85</td>\n",
       "      <td>Yes</td>\n",
       "    </tr>\n",
       "    <tr>\n",
       "      <th>3</th>\n",
       "      <td>1</td>\n",
       "      <td>1</td>\n",
       "      <td>0</td>\n",
       "      <td>13</td>\n",
       "      <td>0</td>\n",
       "      <td>98.00</td>\n",
       "      <td>1237.85</td>\n",
       "      <td>Yes</td>\n",
       "    </tr>\n",
       "    <tr>\n",
       "      <th>4</th>\n",
       "      <td>2</td>\n",
       "      <td>1</td>\n",
       "      <td>0</td>\n",
       "      <td>3</td>\n",
       "      <td>0</td>\n",
       "      <td>83.90</td>\n",
       "      <td>267.40</td>\n",
       "      <td>Yes</td>\n",
       "    </tr>\n",
       "    <tr>\n",
       "      <th>...</th>\n",
       "      <td>...</td>\n",
       "      <td>...</td>\n",
       "      <td>...</td>\n",
       "      <td>...</td>\n",
       "      <td>...</td>\n",
       "      <td>...</td>\n",
       "      <td>...</td>\n",
       "      <td>...</td>\n",
       "    </tr>\n",
       "    <tr>\n",
       "      <th>7038</th>\n",
       "      <td>2</td>\n",
       "      <td>2</td>\n",
       "      <td>0</td>\n",
       "      <td>13</td>\n",
       "      <td>0</td>\n",
       "      <td>55.15</td>\n",
       "      <td>742.90</td>\n",
       "      <td>No</td>\n",
       "    </tr>\n",
       "    <tr>\n",
       "      <th>7039</th>\n",
       "      <td>1</td>\n",
       "      <td>1</td>\n",
       "      <td>0</td>\n",
       "      <td>22</td>\n",
       "      <td>1</td>\n",
       "      <td>85.10</td>\n",
       "      <td>1873.70</td>\n",
       "      <td>Yes</td>\n",
       "    </tr>\n",
       "    <tr>\n",
       "      <th>7040</th>\n",
       "      <td>2</td>\n",
       "      <td>1</td>\n",
       "      <td>0</td>\n",
       "      <td>2</td>\n",
       "      <td>0</td>\n",
       "      <td>50.30</td>\n",
       "      <td>92.75</td>\n",
       "      <td>No</td>\n",
       "    </tr>\n",
       "    <tr>\n",
       "      <th>7041</th>\n",
       "      <td>2</td>\n",
       "      <td>3</td>\n",
       "      <td>1</td>\n",
       "      <td>67</td>\n",
       "      <td>0</td>\n",
       "      <td>67.85</td>\n",
       "      <td>4627.65</td>\n",
       "      <td>No</td>\n",
       "    </tr>\n",
       "    <tr>\n",
       "      <th>7042</th>\n",
       "      <td>1</td>\n",
       "      <td>3</td>\n",
       "      <td>1</td>\n",
       "      <td>63</td>\n",
       "      <td>0</td>\n",
       "      <td>59.00</td>\n",
       "      <td>3707.60</td>\n",
       "      <td>No</td>\n",
       "    </tr>\n",
       "  </tbody>\n",
       "</table>\n",
       "<p>7043 rows × 8 columns</p>\n",
       "</div>"
      ],
      "text/plain": [
       "      payment_type_id  contract_type_id  dependents  tenure  multiple_lines  \\\n",
       "0                   2                 2           1       9               0   \n",
       "1                   2                 1           0       9               1   \n",
       "2                   1                 1           0       4               0   \n",
       "3                   1                 1           0      13               0   \n",
       "4                   2                 1           0       3               0   \n",
       "...               ...               ...         ...     ...             ...   \n",
       "7038                2                 2           0      13               0   \n",
       "7039                1                 1           0      22               1   \n",
       "7040                2                 1           0       2               0   \n",
       "7041                2                 3           1      67               0   \n",
       "7042                1                 3           1      63               0   \n",
       "\n",
       "      monthly_charges  total_charges churn  \n",
       "0               65.60         593.30    No  \n",
       "1               59.90         542.40    No  \n",
       "2               73.90         280.85   Yes  \n",
       "3               98.00        1237.85   Yes  \n",
       "4               83.90         267.40   Yes  \n",
       "...               ...            ...   ...  \n",
       "7038            55.15         742.90    No  \n",
       "7039            85.10        1873.70   Yes  \n",
       "7040            50.30          92.75    No  \n",
       "7041            67.85        4627.65    No  \n",
       "7042            59.00        3707.60    No  \n",
       "\n",
       "[7043 rows x 8 columns]"
      ]
     },
     "execution_count": 11,
     "metadata": {},
     "output_type": "execute_result"
    }
   ],
   "source": [
    "telco['multiple_lines'] = np.where(telco['multiple_lines'] == 'Yes', 1, 0)\n",
    "telco"
   ]
  },
  {
   "cell_type": "code",
   "execution_count": null,
   "id": "81e1816d",
   "metadata": {},
   "outputs": [],
   "source": [
    "# Converting str values to numeric"
   ]
  },
  {
   "cell_type": "code",
   "execution_count": 12,
   "id": "9eb9a485",
   "metadata": {},
   "outputs": [],
   "source": [
    "train, val, test = train_val_test(telco, 'churn')"
   ]
  },
  {
   "cell_type": "code",
   "execution_count": 14,
   "id": "9e23edaa",
   "metadata": {},
   "outputs": [],
   "source": [
    "X_train = train.drop(columns='churn')\n",
    "y_train = train['churn']\n",
    "\n",
    "X_val = val.drop(columns='churn')\n",
    "y_val = val['churn']\n",
    "\n",
    "X_test = test.drop(columns='churn')\n",
    "y_test = test['churn']\n",
    "# Creating splits for the data"
   ]
  },
  {
   "cell_type": "code",
   "execution_count": 15,
   "id": "e8505bca",
   "metadata": {},
   "outputs": [
    {
     "data": {
      "text/plain": [
       "0.734685598377282"
      ]
     },
     "execution_count": 15,
     "metadata": {},
     "output_type": "execute_result"
    }
   ],
   "source": [
    "baseline = len(train[train['churn'] == 'No'])/ len(train)\n",
    "baseline"
   ]
  },
  {
   "cell_type": "code",
   "execution_count": 16,
   "id": "ca3db2e3",
   "metadata": {},
   "outputs": [],
   "source": [
    "train_tree = DecisionTreeClassifier(max_depth=6, random_state=42)"
   ]
  },
  {
   "cell_type": "code",
   "execution_count": 17,
   "id": "6af8a128",
   "metadata": {},
   "outputs": [
    {
     "data": {
      "text/html": [
       "<style>#sk-container-id-1 {color: black;background-color: white;}#sk-container-id-1 pre{padding: 0;}#sk-container-id-1 div.sk-toggleable {background-color: white;}#sk-container-id-1 label.sk-toggleable__label {cursor: pointer;display: block;width: 100%;margin-bottom: 0;padding: 0.3em;box-sizing: border-box;text-align: center;}#sk-container-id-1 label.sk-toggleable__label-arrow:before {content: \"▸\";float: left;margin-right: 0.25em;color: #696969;}#sk-container-id-1 label.sk-toggleable__label-arrow:hover:before {color: black;}#sk-container-id-1 div.sk-estimator:hover label.sk-toggleable__label-arrow:before {color: black;}#sk-container-id-1 div.sk-toggleable__content {max-height: 0;max-width: 0;overflow: hidden;text-align: left;background-color: #f0f8ff;}#sk-container-id-1 div.sk-toggleable__content pre {margin: 0.2em;color: black;border-radius: 0.25em;background-color: #f0f8ff;}#sk-container-id-1 input.sk-toggleable__control:checked~div.sk-toggleable__content {max-height: 200px;max-width: 100%;overflow: auto;}#sk-container-id-1 input.sk-toggleable__control:checked~label.sk-toggleable__label-arrow:before {content: \"▾\";}#sk-container-id-1 div.sk-estimator input.sk-toggleable__control:checked~label.sk-toggleable__label {background-color: #d4ebff;}#sk-container-id-1 div.sk-label input.sk-toggleable__control:checked~label.sk-toggleable__label {background-color: #d4ebff;}#sk-container-id-1 input.sk-hidden--visually {border: 0;clip: rect(1px 1px 1px 1px);clip: rect(1px, 1px, 1px, 1px);height: 1px;margin: -1px;overflow: hidden;padding: 0;position: absolute;width: 1px;}#sk-container-id-1 div.sk-estimator {font-family: monospace;background-color: #f0f8ff;border: 1px dotted black;border-radius: 0.25em;box-sizing: border-box;margin-bottom: 0.5em;}#sk-container-id-1 div.sk-estimator:hover {background-color: #d4ebff;}#sk-container-id-1 div.sk-parallel-item::after {content: \"\";width: 100%;border-bottom: 1px solid gray;flex-grow: 1;}#sk-container-id-1 div.sk-label:hover label.sk-toggleable__label {background-color: #d4ebff;}#sk-container-id-1 div.sk-serial::before {content: \"\";position: absolute;border-left: 1px solid gray;box-sizing: border-box;top: 0;bottom: 0;left: 50%;z-index: 0;}#sk-container-id-1 div.sk-serial {display: flex;flex-direction: column;align-items: center;background-color: white;padding-right: 0.2em;padding-left: 0.2em;position: relative;}#sk-container-id-1 div.sk-item {position: relative;z-index: 1;}#sk-container-id-1 div.sk-parallel {display: flex;align-items: stretch;justify-content: center;background-color: white;position: relative;}#sk-container-id-1 div.sk-item::before, #sk-container-id-1 div.sk-parallel-item::before {content: \"\";position: absolute;border-left: 1px solid gray;box-sizing: border-box;top: 0;bottom: 0;left: 50%;z-index: -1;}#sk-container-id-1 div.sk-parallel-item {display: flex;flex-direction: column;z-index: 1;position: relative;background-color: white;}#sk-container-id-1 div.sk-parallel-item:first-child::after {align-self: flex-end;width: 50%;}#sk-container-id-1 div.sk-parallel-item:last-child::after {align-self: flex-start;width: 50%;}#sk-container-id-1 div.sk-parallel-item:only-child::after {width: 0;}#sk-container-id-1 div.sk-dashed-wrapped {border: 1px dashed gray;margin: 0 0.4em 0.5em 0.4em;box-sizing: border-box;padding-bottom: 0.4em;background-color: white;}#sk-container-id-1 div.sk-label label {font-family: monospace;font-weight: bold;display: inline-block;line-height: 1.2em;}#sk-container-id-1 div.sk-label-container {text-align: center;}#sk-container-id-1 div.sk-container {/* jupyter's `normalize.less` sets `[hidden] { display: none; }` but bootstrap.min.css set `[hidden] { display: none !important; }` so we also need the `!important` here to be able to override the default hidden behavior on the sphinx rendered scikit-learn.org. See: https://github.com/scikit-learn/scikit-learn/issues/21755 */display: inline-block !important;position: relative;}#sk-container-id-1 div.sk-text-repr-fallback {display: none;}</style><div id=\"sk-container-id-1\" class=\"sk-top-container\"><div class=\"sk-text-repr-fallback\"><pre>DecisionTreeClassifier(max_depth=6, random_state=42)</pre><b>In a Jupyter environment, please rerun this cell to show the HTML representation or trust the notebook. <br />On GitHub, the HTML representation is unable to render, please try loading this page with nbviewer.org.</b></div><div class=\"sk-container\" hidden><div class=\"sk-item\"><div class=\"sk-estimator sk-toggleable\"><input class=\"sk-toggleable__control sk-hidden--visually\" id=\"sk-estimator-id-1\" type=\"checkbox\" checked><label for=\"sk-estimator-id-1\" class=\"sk-toggleable__label sk-toggleable__label-arrow\">DecisionTreeClassifier</label><div class=\"sk-toggleable__content\"><pre>DecisionTreeClassifier(max_depth=6, random_state=42)</pre></div></div></div></div></div>"
      ],
      "text/plain": [
       "DecisionTreeClassifier(max_depth=6, random_state=42)"
      ]
     },
     "execution_count": 17,
     "metadata": {},
     "output_type": "execute_result"
    }
   ],
   "source": [
    "train_tree = train_tree.fit(X_train, y_train)\n",
    "train_tree"
   ]
  },
  {
   "cell_type": "code",
   "execution_count": 18,
   "id": "0b052f61",
   "metadata": {},
   "outputs": [
    {
     "data": {
      "text/plain": [
       "[Text(0.5599747474747475, 0.9285714285714286, 'contract_type_id <= 1.5\\ngini = 0.39\\nsamples = 4930\\nvalue = [3622, 1308]\\nclass = No'),\n",
       " Text(0.29292929292929293, 0.7857142857142857, 'monthly_charges <= 68.625\\ngini = 0.491\\nsamples = 2693\\nvalue = [1531, 1162]\\nclass = No'),\n",
       " Text(0.1590909090909091, 0.6428571428571429, 'tenure <= 3.5\\ngini = 0.419\\nsamples = 1118\\nvalue = [784, 334]\\nclass = No'),\n",
       " Text(0.08080808080808081, 0.5, 'monthly_charges <= 20.8\\ngini = 0.496\\nsamples = 400\\nvalue = [217, 183]\\nclass = No'),\n",
       " Text(0.04040404040404041, 0.35714285714285715, 'total_charges <= 38.75\\ngini = 0.407\\nsamples = 151\\nvalue = [108, 43]\\nclass = No'),\n",
       " Text(0.020202020202020204, 0.21428571428571427, 'monthly_charges <= 20.075\\ngini = 0.457\\nsamples = 113\\nvalue = [73, 40]\\nclass = No'),\n",
       " Text(0.010101010101010102, 0.07142857142857142, 'gini = 0.405\\nsamples = 71\\nvalue = [51, 20]\\nclass = No'),\n",
       " Text(0.030303030303030304, 0.07142857142857142, 'gini = 0.499\\nsamples = 42\\nvalue = [22, 20]\\nclass = No'),\n",
       " Text(0.06060606060606061, 0.21428571428571427, 'total_charges <= 58.075\\ngini = 0.145\\nsamples = 38\\nvalue = [35, 3]\\nclass = No'),\n",
       " Text(0.050505050505050504, 0.07142857142857142, 'gini = 0.0\\nsamples = 27\\nvalue = [27, 0]\\nclass = No'),\n",
       " Text(0.0707070707070707, 0.07142857142857142, 'gini = 0.397\\nsamples = 11\\nvalue = [8, 3]\\nclass = No'),\n",
       " Text(0.12121212121212122, 0.35714285714285715, 'payment_type_id <= 1.5\\ngini = 0.492\\nsamples = 249\\nvalue = [109, 140]\\nclass = Yes'),\n",
       " Text(0.10101010101010101, 0.21428571428571427, 'total_charges <= 43.55\\ngini = 0.451\\nsamples = 99\\nvalue = [34, 65]\\nclass = Yes'),\n",
       " Text(0.09090909090909091, 0.07142857142857142, 'gini = 0.287\\nsamples = 23\\nvalue = [4, 19]\\nclass = Yes'),\n",
       " Text(0.1111111111111111, 0.07142857142857142, 'gini = 0.478\\nsamples = 76\\nvalue = [30, 46]\\nclass = Yes'),\n",
       " Text(0.1414141414141414, 0.21428571428571427, 'total_charges <= 173.425\\ngini = 0.5\\nsamples = 150\\nvalue = [75, 75]\\nclass = No'),\n",
       " Text(0.13131313131313133, 0.07142857142857142, 'gini = 0.5\\nsamples = 147\\nvalue = [72, 75]\\nclass = Yes'),\n",
       " Text(0.15151515151515152, 0.07142857142857142, 'gini = 0.0\\nsamples = 3\\nvalue = [3, 0]\\nclass = No'),\n",
       " Text(0.23737373737373738, 0.5, 'tenure <= 18.5\\ngini = 0.332\\nsamples = 718\\nvalue = [567, 151]\\nclass = No'),\n",
       " Text(0.20202020202020202, 0.35714285714285715, 'monthly_charges <= 22.2\\ngini = 0.383\\nsamples = 423\\nvalue = [314, 109]\\nclass = No'),\n",
       " Text(0.18181818181818182, 0.21428571428571427, 'monthly_charges <= 20.375\\ngini = 0.23\\nsamples = 128\\nvalue = [111, 17]\\nclass = No'),\n",
       " Text(0.1717171717171717, 0.07142857142857142, 'gini = 0.28\\nsamples = 95\\nvalue = [79, 16]\\nclass = No'),\n",
       " Text(0.1919191919191919, 0.07142857142857142, 'gini = 0.059\\nsamples = 33\\nvalue = [32, 1]\\nclass = No'),\n",
       " Text(0.2222222222222222, 0.21428571428571427, 'total_charges <= 310.9\\ngini = 0.429\\nsamples = 295\\nvalue = [203, 92]\\nclass = No'),\n",
       " Text(0.21212121212121213, 0.07142857142857142, 'gini = 0.489\\nsamples = 103\\nvalue = [59, 44]\\nclass = No'),\n",
       " Text(0.23232323232323232, 0.07142857142857142, 'gini = 0.375\\nsamples = 192\\nvalue = [144, 48]\\nclass = No'),\n",
       " Text(0.2727272727272727, 0.35714285714285715, 'monthly_charges <= 68.2\\ngini = 0.244\\nsamples = 295\\nvalue = [253, 42]\\nclass = No'),\n",
       " Text(0.26262626262626265, 0.21428571428571427, 'monthly_charges <= 27.525\\ngini = 0.24\\nsamples = 294\\nvalue = [253, 41]\\nclass = No'),\n",
       " Text(0.25252525252525254, 0.07142857142857142, 'gini = 0.092\\nsamples = 62\\nvalue = [59, 3]\\nclass = No'),\n",
       " Text(0.2727272727272727, 0.07142857142857142, 'gini = 0.274\\nsamples = 232\\nvalue = [194, 38]\\nclass = No'),\n",
       " Text(0.2828282828282828, 0.21428571428571427, 'gini = 0.0\\nsamples = 1\\nvalue = [0, 1]\\nclass = Yes'),\n",
       " Text(0.42676767676767674, 0.6428571428571429, 'tenure <= 15.5\\ngini = 0.499\\nsamples = 1575\\nvalue = [747, 828]\\nclass = Yes'),\n",
       " Text(0.3484848484848485, 0.5, 'total_charges <= 120.0\\ngini = 0.438\\nsamples = 756\\nvalue = [245, 511]\\nclass = Yes'),\n",
       " Text(0.31313131313131315, 0.35714285714285715, 'monthly_charges <= 69.875\\ngini = 0.232\\nsamples = 172\\nvalue = [23, 149]\\nclass = Yes'),\n",
       " Text(0.30303030303030304, 0.21428571428571427, 'gini = 0.0\\nsamples = 28\\nvalue = [0, 28]\\nclass = Yes'),\n",
       " Text(0.32323232323232326, 0.21428571428571427, 'multiple_lines <= 0.5\\ngini = 0.268\\nsamples = 144\\nvalue = [23, 121]\\nclass = Yes'),\n",
       " Text(0.31313131313131315, 0.07142857142857142, 'gini = 0.318\\nsamples = 106\\nvalue = [21, 85]\\nclass = Yes'),\n",
       " Text(0.3333333333333333, 0.07142857142857142, 'gini = 0.1\\nsamples = 38\\nvalue = [2, 36]\\nclass = Yes'),\n",
       " Text(0.3838383838383838, 0.35714285714285715, 'monthly_charges <= 83.275\\ngini = 0.471\\nsamples = 584\\nvalue = [222, 362]\\nclass = Yes'),\n",
       " Text(0.36363636363636365, 0.21428571428571427, 'monthly_charges <= 74.225\\ngini = 0.498\\nsamples = 309\\nvalue = [145, 164]\\nclass = Yes'),\n",
       " Text(0.35353535353535354, 0.07142857142857142, 'gini = 0.492\\nsamples = 103\\nvalue = [58, 45]\\nclass = No'),\n",
       " Text(0.37373737373737376, 0.07142857142857142, 'gini = 0.488\\nsamples = 206\\nvalue = [87, 119]\\nclass = Yes'),\n",
       " Text(0.40404040404040403, 0.21428571428571427, 'multiple_lines <= 0.5\\ngini = 0.403\\nsamples = 275\\nvalue = [77, 198]\\nclass = Yes'),\n",
       " Text(0.3939393939393939, 0.07142857142857142, 'gini = 0.48\\nsamples = 115\\nvalue = [46, 69]\\nclass = Yes'),\n",
       " Text(0.41414141414141414, 0.07142857142857142, 'gini = 0.312\\nsamples = 160\\nvalue = [31, 129]\\nclass = Yes'),\n",
       " Text(0.5050505050505051, 0.5, 'payment_type_id <= 1.5\\ngini = 0.474\\nsamples = 819\\nvalue = [502, 317]\\nclass = No'),\n",
       " Text(0.46464646464646464, 0.35714285714285715, 'tenure <= 29.5\\ngini = 0.499\\nsamples = 436\\nvalue = [228, 208]\\nclass = No'),\n",
       " Text(0.4444444444444444, 0.21428571428571427, 'monthly_charges <= 86.375\\ngini = 0.491\\nsamples = 176\\nvalue = [76, 100]\\nclass = Yes'),\n",
       " Text(0.43434343434343436, 0.07142857142857142, 'gini = 0.49\\nsamples = 79\\nvalue = [45, 34]\\nclass = No'),\n",
       " Text(0.45454545454545453, 0.07142857142857142, 'gini = 0.435\\nsamples = 97\\nvalue = [31, 66]\\nclass = Yes'),\n",
       " Text(0.48484848484848486, 0.21428571428571427, 'monthly_charges <= 93.65\\ngini = 0.486\\nsamples = 260\\nvalue = [152, 108]\\nclass = No'),\n",
       " Text(0.47474747474747475, 0.07142857142857142, 'gini = 0.444\\nsamples = 105\\nvalue = [70, 35]\\nclass = No'),\n",
       " Text(0.494949494949495, 0.07142857142857142, 'gini = 0.498\\nsamples = 155\\nvalue = [82, 73]\\nclass = No'),\n",
       " Text(0.5454545454545454, 0.35714285714285715, 'tenure <= 51.5\\ngini = 0.407\\nsamples = 383\\nvalue = [274, 109]\\nclass = No'),\n",
       " Text(0.5252525252525253, 0.21428571428571427, 'monthly_charges <= 101.725\\ngini = 0.441\\nsamples = 301\\nvalue = [202, 99]\\nclass = No'),\n",
       " Text(0.5151515151515151, 0.07142857142857142, 'gini = 0.417\\nsamples = 273\\nvalue = [192, 81]\\nclass = No'),\n",
       " Text(0.5353535353535354, 0.07142857142857142, 'gini = 0.459\\nsamples = 28\\nvalue = [10, 18]\\nclass = Yes'),\n",
       " Text(0.5656565656565656, 0.21428571428571427, 'total_charges <= 5143.8\\ngini = 0.214\\nsamples = 82\\nvalue = [72, 10]\\nclass = No'),\n",
       " Text(0.5555555555555556, 0.07142857142857142, 'gini = 0.0\\nsamples = 28\\nvalue = [28, 0]\\nclass = No'),\n",
       " Text(0.5757575757575758, 0.07142857142857142, 'gini = 0.302\\nsamples = 54\\nvalue = [44, 10]\\nclass = No'),\n",
       " Text(0.827020202020202, 0.7857142857142857, 'monthly_charges <= 93.675\\ngini = 0.122\\nsamples = 2237\\nvalue = [2091, 146]\\nclass = No'),\n",
       " Text(0.7272727272727273, 0.6428571428571429, 'contract_type_id <= 2.5\\ngini = 0.075\\nsamples = 1674\\nvalue = [1609, 65]\\nclass = No'),\n",
       " Text(0.6666666666666666, 0.5, 'monthly_charges <= 41.375\\ngini = 0.127\\nsamples = 762\\nvalue = [710, 52]\\nclass = No'),\n",
       " Text(0.6262626262626263, 0.35714285714285715, 'payment_type_id <= 1.5\\ngini = 0.046\\nsamples = 298\\nvalue = [291, 7]\\nclass = No'),\n",
       " Text(0.6060606060606061, 0.21428571428571427, 'tenure <= 43.5\\ngini = 0.137\\nsamples = 27\\nvalue = [25, 2]\\nclass = No'),\n",
       " Text(0.5959595959595959, 0.07142857142857142, 'gini = 0.0\\nsamples = 14\\nvalue = [14, 0]\\nclass = No'),\n",
       " Text(0.6161616161616161, 0.07142857142857142, 'gini = 0.26\\nsamples = 13\\nvalue = [11, 2]\\nclass = No'),\n",
       " Text(0.6464646464646465, 0.21428571428571427, 'total_charges <= 396.35\\ngini = 0.036\\nsamples = 271\\nvalue = [266, 5]\\nclass = No'),\n",
       " Text(0.6363636363636364, 0.07142857142857142, 'gini = 0.082\\nsamples = 93\\nvalue = [89, 4]\\nclass = No'),\n",
       " Text(0.6565656565656566, 0.07142857142857142, 'gini = 0.011\\nsamples = 178\\nvalue = [177, 1]\\nclass = No'),\n",
       " Text(0.7070707070707071, 0.35714285714285715, 'monthly_charges <= 42.7\\ngini = 0.175\\nsamples = 464\\nvalue = [419, 45]\\nclass = No'),\n",
       " Text(0.6868686868686869, 0.21428571428571427, 'total_charges <= 1778.6\\ngini = 0.444\\nsamples = 3\\nvalue = [1, 2]\\nclass = Yes'),\n",
       " Text(0.6767676767676768, 0.07142857142857142, 'gini = 0.0\\nsamples = 2\\nvalue = [0, 2]\\nclass = Yes'),\n",
       " Text(0.696969696969697, 0.07142857142857142, 'gini = 0.0\\nsamples = 1\\nvalue = [1, 0]\\nclass = No'),\n",
       " Text(0.7272727272727273, 0.21428571428571427, 'total_charges <= 1197.35\\ngini = 0.169\\nsamples = 461\\nvalue = [418, 43]\\nclass = No'),\n",
       " Text(0.7171717171717171, 0.07142857142857142, 'gini = 0.293\\nsamples = 56\\nvalue = [46, 10]\\nclass = No'),\n",
       " Text(0.7373737373737373, 0.07142857142857142, 'gini = 0.15\\nsamples = 405\\nvalue = [372, 33]\\nclass = No'),\n",
       " Text(0.7878787878787878, 0.5, 'payment_type_id <= 1.5\\ngini = 0.028\\nsamples = 912\\nvalue = [899, 13]\\nclass = No'),\n",
       " Text(0.7575757575757576, 0.35714285714285715, 'tenure <= 63.5\\ngini = 0.123\\nsamples = 61\\nvalue = [57, 4]\\nclass = No'),\n",
       " Text(0.7474747474747475, 0.21428571428571427, 'gini = 0.0\\nsamples = 28\\nvalue = [28, 0]\\nclass = No'),\n",
       " Text(0.7676767676767676, 0.21428571428571427, 'total_charges <= 5311.8\\ngini = 0.213\\nsamples = 33\\nvalue = [29, 4]\\nclass = No'),\n",
       " Text(0.7575757575757576, 0.07142857142857142, 'gini = 0.346\\nsamples = 18\\nvalue = [14, 4]\\nclass = No'),\n",
       " Text(0.7777777777777778, 0.07142857142857142, 'gini = 0.0\\nsamples = 15\\nvalue = [15, 0]\\nclass = No'),\n",
       " Text(0.8181818181818182, 0.35714285714285715, 'tenure <= 66.5\\ngini = 0.021\\nsamples = 851\\nvalue = [842, 9]\\nclass = No'),\n",
       " Text(0.8080808080808081, 0.21428571428571427, 'total_charges <= 4480.1\\ngini = 0.033\\nsamples = 538\\nvalue = [529, 9]\\nclass = No'),\n",
       " Text(0.797979797979798, 0.07142857142857142, 'gini = 0.025\\nsamples = 483\\nvalue = [477, 6]\\nclass = No'),\n",
       " Text(0.8181818181818182, 0.07142857142857142, 'gini = 0.103\\nsamples = 55\\nvalue = [52, 3]\\nclass = No'),\n",
       " Text(0.8282828282828283, 0.21428571428571427, 'gini = 0.0\\nsamples = 313\\nvalue = [313, 0]\\nclass = No'),\n",
       " Text(0.9267676767676768, 0.6428571428571429, 'tenure <= 70.5\\ngini = 0.246\\nsamples = 563\\nvalue = [482, 81]\\nclass = No'),\n",
       " Text(0.8838383838383839, 0.5, 'tenure <= 19.5\\ngini = 0.299\\nsamples = 409\\nvalue = [334, 75]\\nclass = No'),\n",
       " Text(0.8585858585858586, 0.35714285714285715, 'total_charges <= 1686.1\\ngini = 0.5\\nsamples = 10\\nvalue = [5, 5]\\nclass = No'),\n",
       " Text(0.8484848484848485, 0.21428571428571427, 'monthly_charges <= 104.9\\ngini = 0.469\\nsamples = 8\\nvalue = [5, 3]\\nclass = No'),\n",
       " Text(0.8383838383838383, 0.07142857142857142, 'gini = 0.278\\nsamples = 6\\nvalue = [5, 1]\\nclass = No'),\n",
       " Text(0.8585858585858586, 0.07142857142857142, 'gini = 0.0\\nsamples = 2\\nvalue = [0, 2]\\nclass = Yes'),\n",
       " Text(0.8686868686868687, 0.21428571428571427, 'gini = 0.0\\nsamples = 2\\nvalue = [0, 2]\\nclass = Yes'),\n",
       " Text(0.9090909090909091, 0.35714285714285715, 'payment_type_id <= 1.5\\ngini = 0.289\\nsamples = 399\\nvalue = [329, 70]\\nclass = No'),\n",
       " Text(0.8888888888888888, 0.21428571428571427, 'tenure <= 43.5\\ngini = 0.369\\nsamples = 123\\nvalue = [93, 30]\\nclass = No'),\n",
       " Text(0.8787878787878788, 0.07142857142857142, 'gini = 0.49\\nsamples = 21\\nvalue = [12, 9]\\nclass = No'),\n",
       " Text(0.898989898989899, 0.07142857142857142, 'gini = 0.327\\nsamples = 102\\nvalue = [81, 21]\\nclass = No'),\n",
       " Text(0.9292929292929293, 0.21428571428571427, 'monthly_charges <= 117.775\\ngini = 0.248\\nsamples = 276\\nvalue = [236, 40]\\nclass = No'),\n",
       " Text(0.9191919191919192, 0.07142857142857142, 'gini = 0.243\\nsamples = 275\\nvalue = [236, 39]\\nclass = No'),\n",
       " Text(0.9393939393939394, 0.07142857142857142, 'gini = 0.0\\nsamples = 1\\nvalue = [0, 1]\\nclass = Yes'),\n",
       " Text(0.9696969696969697, 0.5, 'total_charges <= 6636.6\\ngini = 0.075\\nsamples = 154\\nvalue = [148, 6]\\nclass = No'),\n",
       " Text(0.9595959595959596, 0.35714285714285715, 'gini = 0.0\\nsamples = 1\\nvalue = [0, 1]\\nclass = Yes'),\n",
       " Text(0.9797979797979798, 0.35714285714285715, 'total_charges <= 8678.625\\ngini = 0.063\\nsamples = 153\\nvalue = [148, 5]\\nclass = No'),\n",
       " Text(0.9696969696969697, 0.21428571428571427, 'monthly_charges <= 109.275\\ngini = 0.051\\nsamples = 152\\nvalue = [148, 4]\\nclass = No'),\n",
       " Text(0.9595959595959596, 0.07142857142857142, 'gini = 0.097\\nsamples = 78\\nvalue = [74, 4]\\nclass = No'),\n",
       " Text(0.9797979797979798, 0.07142857142857142, 'gini = 0.0\\nsamples = 74\\nvalue = [74, 0]\\nclass = No'),\n",
       " Text(0.98989898989899, 0.21428571428571427, 'gini = 0.0\\nsamples = 1\\nvalue = [0, 1]\\nclass = Yes')]"
      ]
     },
     "execution_count": 18,
     "metadata": {},
     "output_type": "execute_result"
    },
    {
     "data": {
      "image/png": "[encoded data removed]",
      "text/plain": [
       "<Figure size 1200x600 with 1 Axes>"
      ]
     },
     "metadata": {},
     "output_type": "display_data"
    }
   ],
   "source": [
    "plt.figure(figsize=(12, 6))\n",
    "plot_tree(train_tree, feature_names=X_train.columns, class_names=train_tree.classes_, rounded=True)"
   ]
  },
  {
   "cell_type": "code",
   "execution_count": 21,
   "id": "f1a87212",
   "metadata": {},
   "outputs": [
    {
     "data": {
      "text/plain": [
       "array(['Yes', 'No', 'No', ..., 'No', 'No', 'No'], dtype=object)"
      ]
     },
     "execution_count": 21,
     "metadata": {},
     "output_type": "execute_result"
    }
   ],
   "source": [
    "# make prediction on train obeservations\n",
    "\n",
    "y_pred = train_tree.predict(X_train)\n",
    "y_pred"
   ]
  },
  {
   "cell_type": "code",
   "execution_count": 23,
   "id": "c49783dc",
   "metadata": {},
   "outputs": [
    {
     "data": {
      "text/plain": [
       "array([[0.4223301 , 0.5776699 ],\n",
       "       [0.82142857, 0.17857143],\n",
       "       [0.66666667, 0.33333333],\n",
       "       ...,\n",
       "       [0.99438202, 0.00561798],\n",
       "       [0.98757764, 0.01242236],\n",
       "       [0.96969697, 0.03030303]])"
      ]
     },
     "execution_count": 23,
     "metadata": {},
     "output_type": "execute_result"
    }
   ],
   "source": [
    "y_pred_prob = train_tree.predict_proba(X_train)\n",
    "y_pred_prob"
   ]
  },
  {
   "cell_type": "code",
   "execution_count": 24,
   "id": "8b27f1b8",
   "metadata": {},
   "outputs": [
    {
     "data": {
      "text/plain": [
       "0.8089249492900609"
      ]
     },
     "execution_count": 24,
     "metadata": {},
     "output_type": "execute_result"
    }
   ],
   "source": [
    "train_tree.score(X_train, y_train)"
   ]
  },
  {
   "cell_type": "code",
   "execution_count": 27,
   "id": "17df84bc",
   "metadata": {},
   "outputs": [
    {
     "data": {
      "text/html": [
       "<div>\n",
       "<style scoped>\n",
       "    .dataframe tbody tr th:only-of-type {\n",
       "        vertical-align: middle;\n",
       "    }\n",
       "\n",
       "    .dataframe tbody tr th {\n",
       "        vertical-align: top;\n",
       "    }\n",
       "\n",
       "    .dataframe thead th {\n",
       "        text-align: right;\n",
       "    }\n",
       "</style>\n",
       "<table border=\"1\" class=\"dataframe\">\n",
       "  <thead>\n",
       "    <tr style=\"text-align: right;\">\n",
       "      <th></th>\n",
       "      <th>0</th>\n",
       "      <th>1</th>\n",
       "    </tr>\n",
       "  </thead>\n",
       "  <tbody>\n",
       "    <tr>\n",
       "      <th>0</th>\n",
       "      <td>3288</td>\n",
       "      <td>334</td>\n",
       "    </tr>\n",
       "    <tr>\n",
       "      <th>1</th>\n",
       "      <td>608</td>\n",
       "      <td>700</td>\n",
       "    </tr>\n",
       "  </tbody>\n",
       "</table>\n",
       "</div>"
      ],
      "text/plain": [
       "      0    1\n",
       "0  3288  334\n",
       "1   608  700"
      ]
     },
     "execution_count": 27,
     "metadata": {},
     "output_type": "execute_result"
    }
   ],
   "source": [
    "# confusion matrix\n",
    "\n",
    "pd.DataFrame(confusion_matrix(y_train, y_pred))"
   ]
  },
  {
   "cell_type": "code",
   "execution_count": 26,
   "id": "da16c2dd",
   "metadata": {},
   "outputs": [
    {
     "data": {
      "text/html": [
       "<div>\n",
       "<style scoped>\n",
       "    .dataframe tbody tr th:only-of-type {\n",
       "        vertical-align: middle;\n",
       "    }\n",
       "\n",
       "    .dataframe tbody tr th {\n",
       "        vertical-align: top;\n",
       "    }\n",
       "\n",
       "    .dataframe thead th {\n",
       "        text-align: right;\n",
       "    }\n",
       "</style>\n",
       "<table border=\"1\" class=\"dataframe\">\n",
       "  <thead>\n",
       "    <tr style=\"text-align: right;\">\n",
       "      <th></th>\n",
       "      <th>No</th>\n",
       "      <th>Yes</th>\n",
       "    </tr>\n",
       "  </thead>\n",
       "  <tbody>\n",
       "    <tr>\n",
       "      <th>No</th>\n",
       "      <td>3288</td>\n",
       "      <td>334</td>\n",
       "    </tr>\n",
       "    <tr>\n",
       "      <th>Yes</th>\n",
       "      <td>608</td>\n",
       "      <td>700</td>\n",
       "    </tr>\n",
       "  </tbody>\n",
       "</table>\n",
       "</div>"
      ],
      "text/plain": [
       "       No  Yes\n",
       "No   3288  334\n",
       "Yes   608  700"
      ]
     },
     "execution_count": 26,
     "metadata": {},
     "output_type": "execute_result"
    }
   ],
   "source": [
    "labels = sorted(y_train.unique())\n",
    "pd.DataFrame(confusion_matrix(y_train, y_pred), index=labels, columns=labels)"
   ]
  },
  {
   "cell_type": "code",
   "execution_count": 28,
   "id": "b58eb95f",
   "metadata": {},
   "outputs": [
    {
     "name": "stdout",
     "output_type": "stream",
     "text": [
      "              precision    recall  f1-score   support\n",
      "\n",
      "          No       0.84      0.91      0.87      3622\n",
      "         Yes       0.68      0.54      0.60      1308\n",
      "\n",
      "    accuracy                           0.81      4930\n",
      "   macro avg       0.76      0.72      0.74      4930\n",
      "weighted avg       0.80      0.81      0.80      4930\n",
      "\n"
     ]
    }
   ],
   "source": [
    "print(classification_report(y_train, y_pred))"
   ]
  },
  {
   "cell_type": "code",
   "execution_count": 29,
   "id": "8b407a6e",
   "metadata": {},
   "outputs": [
    {
     "data": {
      "text/plain": [
       "0.7935606060606061"
      ]
     },
     "execution_count": 29,
     "metadata": {},
     "output_type": "execute_result"
    }
   ],
   "source": [
    "train_tree.score(X_val, y_val)"
   ]
  },
  {
   "cell_type": "code",
   "execution_count": 30,
   "id": "5e936def",
   "metadata": {},
   "outputs": [
    {
     "name": "stdout",
     "output_type": "stream",
     "text": [
      "              precision    recall  f1-score   support\n",
      "\n",
      "          No       0.84      0.89      0.86       776\n",
      "         Yes       0.64      0.52      0.57       280\n",
      "\n",
      "    accuracy                           0.79      1056\n",
      "   macro avg       0.74      0.71      0.72      1056\n",
      "weighted avg       0.78      0.79      0.79      1056\n",
      "\n"
     ]
    }
   ],
   "source": [
    "y_pred = train_tree.predict(X_val)\n",
    "print(classification_report(y_val, y_pred))"
   ]
  },
  {
   "cell_type": "code",
   "execution_count": 31,
   "id": "c572979d",
   "metadata": {},
   "outputs": [],
   "source": [
    "rf = RandomForestClassifier(bootstrap=True, \n",
    "                            class_weight=None, \n",
    "                            criterion='gini',\n",
    "                            min_samples_leaf=3,\n",
    "                            n_estimators=100,\n",
    "                            max_depth=6, \n",
    "                            random_state=77)"
   ]
  },
  {
   "cell_type": "code",
   "execution_count": 32,
   "id": "d13a166f",
   "metadata": {},
   "outputs": [
    {
     "data": {
      "text/html": [
       "<style>#sk-container-id-2 {color: black;background-color: white;}#sk-container-id-2 pre{padding: 0;}#sk-container-id-2 div.sk-toggleable {background-color: white;}#sk-container-id-2 label.sk-toggleable__label {cursor: pointer;display: block;width: 100%;margin-bottom: 0;padding: 0.3em;box-sizing: border-box;text-align: center;}#sk-container-id-2 label.sk-toggleable__label-arrow:before {content: \"▸\";float: left;margin-right: 0.25em;color: #696969;}#sk-container-id-2 label.sk-toggleable__label-arrow:hover:before {color: black;}#sk-container-id-2 div.sk-estimator:hover label.sk-toggleable__label-arrow:before {color: black;}#sk-container-id-2 div.sk-toggleable__content {max-height: 0;max-width: 0;overflow: hidden;text-align: left;background-color: #f0f8ff;}#sk-container-id-2 div.sk-toggleable__content pre {margin: 0.2em;color: black;border-radius: 0.25em;background-color: #f0f8ff;}#sk-container-id-2 input.sk-toggleable__control:checked~div.sk-toggleable__content {max-height: 200px;max-width: 100%;overflow: auto;}#sk-container-id-2 input.sk-toggleable__control:checked~label.sk-toggleable__label-arrow:before {content: \"▾\";}#sk-container-id-2 div.sk-estimator input.sk-toggleable__control:checked~label.sk-toggleable__label {background-color: #d4ebff;}#sk-container-id-2 div.sk-label input.sk-toggleable__control:checked~label.sk-toggleable__label {background-color: #d4ebff;}#sk-container-id-2 input.sk-hidden--visually {border: 0;clip: rect(1px 1px 1px 1px);clip: rect(1px, 1px, 1px, 1px);height: 1px;margin: -1px;overflow: hidden;padding: 0;position: absolute;width: 1px;}#sk-container-id-2 div.sk-estimator {font-family: monospace;background-color: #f0f8ff;border: 1px dotted black;border-radius: 0.25em;box-sizing: border-box;margin-bottom: 0.5em;}#sk-container-id-2 div.sk-estimator:hover {background-color: #d4ebff;}#sk-container-id-2 div.sk-parallel-item::after {content: \"\";width: 100%;border-bottom: 1px solid gray;flex-grow: 1;}#sk-container-id-2 div.sk-label:hover label.sk-toggleable__label {background-color: #d4ebff;}#sk-container-id-2 div.sk-serial::before {content: \"\";position: absolute;border-left: 1px solid gray;box-sizing: border-box;top: 0;bottom: 0;left: 50%;z-index: 0;}#sk-container-id-2 div.sk-serial {display: flex;flex-direction: column;align-items: center;background-color: white;padding-right: 0.2em;padding-left: 0.2em;position: relative;}#sk-container-id-2 div.sk-item {position: relative;z-index: 1;}#sk-container-id-2 div.sk-parallel {display: flex;align-items: stretch;justify-content: center;background-color: white;position: relative;}#sk-container-id-2 div.sk-item::before, #sk-container-id-2 div.sk-parallel-item::before {content: \"\";position: absolute;border-left: 1px solid gray;box-sizing: border-box;top: 0;bottom: 0;left: 50%;z-index: -1;}#sk-container-id-2 div.sk-parallel-item {display: flex;flex-direction: column;z-index: 1;position: relative;background-color: white;}#sk-container-id-2 div.sk-parallel-item:first-child::after {align-self: flex-end;width: 50%;}#sk-container-id-2 div.sk-parallel-item:last-child::after {align-self: flex-start;width: 50%;}#sk-container-id-2 div.sk-parallel-item:only-child::after {width: 0;}#sk-container-id-2 div.sk-dashed-wrapped {border: 1px dashed gray;margin: 0 0.4em 0.5em 0.4em;box-sizing: border-box;padding-bottom: 0.4em;background-color: white;}#sk-container-id-2 div.sk-label label {font-family: monospace;font-weight: bold;display: inline-block;line-height: 1.2em;}#sk-container-id-2 div.sk-label-container {text-align: center;}#sk-container-id-2 div.sk-container {/* jupyter's `normalize.less` sets `[hidden] { display: none; }` but bootstrap.min.css set `[hidden] { display: none !important; }` so we also need the `!important` here to be able to override the default hidden behavior on the sphinx rendered scikit-learn.org. See: https://github.com/scikit-learn/scikit-learn/issues/21755 */display: inline-block !important;position: relative;}#sk-container-id-2 div.sk-text-repr-fallback {display: none;}</style><div id=\"sk-container-id-2\" class=\"sk-top-container\"><div class=\"sk-text-repr-fallback\"><pre>RandomForestClassifier(max_depth=6, min_samples_leaf=3, random_state=77)</pre><b>In a Jupyter environment, please rerun this cell to show the HTML representation or trust the notebook. <br />On GitHub, the HTML representation is unable to render, please try loading this page with nbviewer.org.</b></div><div class=\"sk-container\" hidden><div class=\"sk-item\"><div class=\"sk-estimator sk-toggleable\"><input class=\"sk-toggleable__control sk-hidden--visually\" id=\"sk-estimator-id-2\" type=\"checkbox\" checked><label for=\"sk-estimator-id-2\" class=\"sk-toggleable__label sk-toggleable__label-arrow\">RandomForestClassifier</label><div class=\"sk-toggleable__content\"><pre>RandomForestClassifier(max_depth=6, min_samples_leaf=3, random_state=77)</pre></div></div></div></div></div>"
      ],
      "text/plain": [
       "RandomForestClassifier(max_depth=6, min_samples_leaf=3, random_state=77)"
      ]
     },
     "execution_count": 32,
     "metadata": {},
     "output_type": "execute_result"
    }
   ],
   "source": [
    "rf.fit(X_train, y_train)"
   ]
  },
  {
   "cell_type": "code",
   "execution_count": 33,
   "id": "49cd9a89",
   "metadata": {},
   "outputs": [
    {
     "name": "stdout",
     "output_type": "stream",
     "text": [
      "[0.10921192 0.28280421 0.01241193 0.2303451  0.01595336 0.19918407\n",
      " 0.15008941]\n"
     ]
    }
   ],
   "source": [
    "print(rf.feature_importances_)"
   ]
  },
  {
   "cell_type": "code",
   "execution_count": 36,
   "id": "82538716",
   "metadata": {},
   "outputs": [],
   "source": [
    "y_pred = rf.predict(X_train)\n",
    "# forest predictions"
   ]
  },
  {
   "cell_type": "code",
   "execution_count": 37,
   "id": "cade1ea9",
   "metadata": {},
   "outputs": [
    {
     "data": {
      "text/plain": [
       "0.7899716177861873"
      ]
     },
     "execution_count": 37,
     "metadata": {},
     "output_type": "execute_result"
    }
   ],
   "source": [
    "rf.score(X_test, y_test)\n",
    "# accuracy score"
   ]
  },
  {
   "cell_type": "code",
   "execution_count": 38,
   "id": "0b29a0ec",
   "metadata": {},
   "outputs": [
    {
     "data": {
      "text/html": [
       "<div>\n",
       "<style scoped>\n",
       "    .dataframe tbody tr th:only-of-type {\n",
       "        vertical-align: middle;\n",
       "    }\n",
       "\n",
       "    .dataframe tbody tr th {\n",
       "        vertical-align: top;\n",
       "    }\n",
       "\n",
       "    .dataframe thead th {\n",
       "        text-align: right;\n",
       "    }\n",
       "</style>\n",
       "<table border=\"1\" class=\"dataframe\">\n",
       "  <thead>\n",
       "    <tr style=\"text-align: right;\">\n",
       "      <th></th>\n",
       "      <th>No</th>\n",
       "      <th>Yes</th>\n",
       "    </tr>\n",
       "  </thead>\n",
       "  <tbody>\n",
       "    <tr>\n",
       "      <th>No</th>\n",
       "      <td>3337</td>\n",
       "      <td>285</td>\n",
       "    </tr>\n",
       "    <tr>\n",
       "      <th>Yes</th>\n",
       "      <td>647</td>\n",
       "      <td>661</td>\n",
       "    </tr>\n",
       "  </tbody>\n",
       "</table>\n",
       "</div>"
      ],
      "text/plain": [
       "       No  Yes\n",
       "No   3337  285\n",
       "Yes   647  661"
      ]
     },
     "execution_count": 38,
     "metadata": {},
     "output_type": "execute_result"
    }
   ],
   "source": [
    "labels = sorted(y_train.unique())\n",
    "pd.DataFrame(confusion_matrix(y_train, y_pred), index=labels, columns=labels)\n",
    "# confusion matrix as a dataframe"
   ]
  },
  {
   "cell_type": "code",
   "execution_count": 39,
   "id": "dd3d85de",
   "metadata": {},
   "outputs": [
    {
     "name": "stdout",
     "output_type": "stream",
     "text": [
      "              precision    recall  f1-score   support\n",
      "\n",
      "          No       0.84      0.92      0.88      3622\n",
      "         Yes       0.70      0.51      0.59      1308\n",
      "\n",
      "    accuracy                           0.81      4930\n",
      "   macro avg       0.77      0.71      0.73      4930\n",
      "weighted avg       0.80      0.81      0.80      4930\n",
      "\n"
     ]
    }
   ],
   "source": [
    "print(classification_report(y_train, y_pred))\n",
    "# classification report"
   ]
  },
  {
   "cell_type": "code",
   "execution_count": 40,
   "id": "c31bcb64",
   "metadata": {},
   "outputs": [
    {
     "data": {
      "text/plain": [
       "0.8020833333333334"
      ]
     },
     "execution_count": 40,
     "metadata": {},
     "output_type": "execute_result"
    }
   ],
   "source": [
    "rf.score(X_val, y_val)\n",
    "# validate accuracy score"
   ]
  },
  {
   "cell_type": "code",
   "execution_count": 46,
   "id": "de5ee419",
   "metadata": {},
   "outputs": [],
   "source": [
    "logit = LogisticRegression(C=1, random_state=42, intercept_scaling=1, solver='lbfgs')\n",
    "# creating a logistical regression"
   ]
  },
  {
   "cell_type": "code",
   "execution_count": 47,
   "id": "de90c5ba",
   "metadata": {},
   "outputs": [
    {
     "data": {
      "text/html": [
       "<style>#sk-container-id-4 {color: black;background-color: white;}#sk-container-id-4 pre{padding: 0;}#sk-container-id-4 div.sk-toggleable {background-color: white;}#sk-container-id-4 label.sk-toggleable__label {cursor: pointer;display: block;width: 100%;margin-bottom: 0;padding: 0.3em;box-sizing: border-box;text-align: center;}#sk-container-id-4 label.sk-toggleable__label-arrow:before {content: \"▸\";float: left;margin-right: 0.25em;color: #696969;}#sk-container-id-4 label.sk-toggleable__label-arrow:hover:before {color: black;}#sk-container-id-4 div.sk-estimator:hover label.sk-toggleable__label-arrow:before {color: black;}#sk-container-id-4 div.sk-toggleable__content {max-height: 0;max-width: 0;overflow: hidden;text-align: left;background-color: #f0f8ff;}#sk-container-id-4 div.sk-toggleable__content pre {margin: 0.2em;color: black;border-radius: 0.25em;background-color: #f0f8ff;}#sk-container-id-4 input.sk-toggleable__control:checked~div.sk-toggleable__content {max-height: 200px;max-width: 100%;overflow: auto;}#sk-container-id-4 input.sk-toggleable__control:checked~label.sk-toggleable__label-arrow:before {content: \"▾\";}#sk-container-id-4 div.sk-estimator input.sk-toggleable__control:checked~label.sk-toggleable__label {background-color: #d4ebff;}#sk-container-id-4 div.sk-label input.sk-toggleable__control:checked~label.sk-toggleable__label {background-color: #d4ebff;}#sk-container-id-4 input.sk-hidden--visually {border: 0;clip: rect(1px 1px 1px 1px);clip: rect(1px, 1px, 1px, 1px);height: 1px;margin: -1px;overflow: hidden;padding: 0;position: absolute;width: 1px;}#sk-container-id-4 div.sk-estimator {font-family: monospace;background-color: #f0f8ff;border: 1px dotted black;border-radius: 0.25em;box-sizing: border-box;margin-bottom: 0.5em;}#sk-container-id-4 div.sk-estimator:hover {background-color: #d4ebff;}#sk-container-id-4 div.sk-parallel-item::after {content: \"\";width: 100%;border-bottom: 1px solid gray;flex-grow: 1;}#sk-container-id-4 div.sk-label:hover label.sk-toggleable__label {background-color: #d4ebff;}#sk-container-id-4 div.sk-serial::before {content: \"\";position: absolute;border-left: 1px solid gray;box-sizing: border-box;top: 0;bottom: 0;left: 50%;z-index: 0;}#sk-container-id-4 div.sk-serial {display: flex;flex-direction: column;align-items: center;background-color: white;padding-right: 0.2em;padding-left: 0.2em;position: relative;}#sk-container-id-4 div.sk-item {position: relative;z-index: 1;}#sk-container-id-4 div.sk-parallel {display: flex;align-items: stretch;justify-content: center;background-color: white;position: relative;}#sk-container-id-4 div.sk-item::before, #sk-container-id-4 div.sk-parallel-item::before {content: \"\";position: absolute;border-left: 1px solid gray;box-sizing: border-box;top: 0;bottom: 0;left: 50%;z-index: -1;}#sk-container-id-4 div.sk-parallel-item {display: flex;flex-direction: column;z-index: 1;position: relative;background-color: white;}#sk-container-id-4 div.sk-parallel-item:first-child::after {align-self: flex-end;width: 50%;}#sk-container-id-4 div.sk-parallel-item:last-child::after {align-self: flex-start;width: 50%;}#sk-container-id-4 div.sk-parallel-item:only-child::after {width: 0;}#sk-container-id-4 div.sk-dashed-wrapped {border: 1px dashed gray;margin: 0 0.4em 0.5em 0.4em;box-sizing: border-box;padding-bottom: 0.4em;background-color: white;}#sk-container-id-4 div.sk-label label {font-family: monospace;font-weight: bold;display: inline-block;line-height: 1.2em;}#sk-container-id-4 div.sk-label-container {text-align: center;}#sk-container-id-4 div.sk-container {/* jupyter's `normalize.less` sets `[hidden] { display: none; }` but bootstrap.min.css set `[hidden] { display: none !important; }` so we also need the `!important` here to be able to override the default hidden behavior on the sphinx rendered scikit-learn.org. See: https://github.com/scikit-learn/scikit-learn/issues/21755 */display: inline-block !important;position: relative;}#sk-container-id-4 div.sk-text-repr-fallback {display: none;}</style><div id=\"sk-container-id-4\" class=\"sk-top-container\"><div class=\"sk-text-repr-fallback\"><pre>LogisticRegression(C=1, random_state=42)</pre><b>In a Jupyter environment, please rerun this cell to show the HTML representation or trust the notebook. <br />On GitHub, the HTML representation is unable to render, please try loading this page with nbviewer.org.</b></div><div class=\"sk-container\" hidden><div class=\"sk-item\"><div class=\"sk-estimator sk-toggleable\"><input class=\"sk-toggleable__control sk-hidden--visually\" id=\"sk-estimator-id-4\" type=\"checkbox\" checked><label for=\"sk-estimator-id-4\" class=\"sk-toggleable__label sk-toggleable__label-arrow\">LogisticRegression</label><div class=\"sk-toggleable__content\"><pre>LogisticRegression(C=1, random_state=42)</pre></div></div></div></div></div>"
      ],
      "text/plain": [
       "LogisticRegression(C=1, random_state=42)"
      ]
     },
     "execution_count": 47,
     "metadata": {},
     "output_type": "execute_result"
    }
   ],
   "source": [
    "logit.fit(X_train, y_train)\n",
    "# fitting the model"
   ]
  },
  {
   "cell_type": "code",
   "execution_count": 48,
   "id": "e57c0727",
   "metadata": {},
   "outputs": [
    {
     "name": "stdout",
     "output_type": "stream",
     "text": [
      "[[-2.01970970e-01 -8.99470288e-01 -3.84673315e-01 -5.18377185e-02\n",
      "   2.12900836e-01  2.28587241e-02  1.81752015e-04]]\n",
      "[0.10040047]\n"
     ]
    }
   ],
   "source": [
    "print(logit.coef_)\n",
    "print(logit.intercept_)"
   ]
  },
  {
   "cell_type": "code",
   "execution_count": 49,
   "id": "85e4fa1e",
   "metadata": {},
   "outputs": [],
   "source": [
    "y_pred = logit.predict(X_train)\n",
    "# preditctions"
   ]
  },
  {
   "cell_type": "code",
   "execution_count": 50,
   "id": "aa917a2a",
   "metadata": {},
   "outputs": [
    {
     "data": {
      "text/plain": [
       "0.7929006085192698"
      ]
     },
     "execution_count": 50,
     "metadata": {},
     "output_type": "execute_result"
    }
   ],
   "source": [
    "logit.score(X_train, y_train)\n",
    "# accuracy score"
   ]
  },
  {
   "cell_type": "code",
   "execution_count": 51,
   "id": "25bc79f4",
   "metadata": {},
   "outputs": [
    {
     "data": {
      "text/html": [
       "<div>\n",
       "<style scoped>\n",
       "    .dataframe tbody tr th:only-of-type {\n",
       "        vertical-align: middle;\n",
       "    }\n",
       "\n",
       "    .dataframe tbody tr th {\n",
       "        vertical-align: top;\n",
       "    }\n",
       "\n",
       "    .dataframe thead th {\n",
       "        text-align: right;\n",
       "    }\n",
       "</style>\n",
       "<table border=\"1\" class=\"dataframe\">\n",
       "  <thead>\n",
       "    <tr style=\"text-align: right;\">\n",
       "      <th></th>\n",
       "      <th>No</th>\n",
       "      <th>Yes</th>\n",
       "    </tr>\n",
       "  </thead>\n",
       "  <tbody>\n",
       "    <tr>\n",
       "      <th>No</th>\n",
       "      <td>3258</td>\n",
       "      <td>364</td>\n",
       "    </tr>\n",
       "    <tr>\n",
       "      <th>Yes</th>\n",
       "      <td>657</td>\n",
       "      <td>651</td>\n",
       "    </tr>\n",
       "  </tbody>\n",
       "</table>\n",
       "</div>"
      ],
      "text/plain": [
       "       No  Yes\n",
       "No   3258  364\n",
       "Yes   657  651"
      ]
     },
     "execution_count": 51,
     "metadata": {},
     "output_type": "execute_result"
    }
   ],
   "source": [
    "labels = sorted(y_train.unique())\n",
    "pd.DataFrame(confusion_matrix(y_train, y_pred), index=labels, columns=labels)\n",
    "# confusion matrix"
   ]
  },
  {
   "cell_type": "code",
   "execution_count": 65,
   "id": "84343a5b",
   "metadata": {},
   "outputs": [
    {
     "name": "stdout",
     "output_type": "stream",
     "text": [
      "              precision    recall  f1-score   support\n",
      "\n",
      "          No       0.83      0.90      0.86      3622\n",
      "         Yes       0.64      0.50      0.56      1308\n",
      "\n",
      "    accuracy                           0.79      4930\n",
      "   macro avg       0.74      0.70      0.71      4930\n",
      "weighted avg       0.78      0.79      0.78      4930\n",
      "\n"
     ]
    }
   ],
   "source": [
    "print(classification_report(y_train, y_pred))\n",
    "# classification report"
   ]
  },
  {
   "cell_type": "code",
   "execution_count": 76,
   "id": "0236339f",
   "metadata": {},
   "outputs": [
    {
     "data": {
      "text/html": [
       "<div>\n",
       "<style scoped>\n",
       "    .dataframe tbody tr th:only-of-type {\n",
       "        vertical-align: middle;\n",
       "    }\n",
       "\n",
       "    .dataframe tbody tr th {\n",
       "        vertical-align: top;\n",
       "    }\n",
       "\n",
       "    .dataframe thead th {\n",
       "        text-align: right;\n",
       "    }\n",
       "</style>\n",
       "<table border=\"1\" class=\"dataframe\">\n",
       "  <thead>\n",
       "    <tr style=\"text-align: right;\">\n",
       "      <th></th>\n",
       "      <th>customer_id</th>\n",
       "    </tr>\n",
       "  </thead>\n",
       "  <tbody>\n",
       "    <tr>\n",
       "      <th>0</th>\n",
       "      <td>0002-ORFBO</td>\n",
       "    </tr>\n",
       "    <tr>\n",
       "      <th>1</th>\n",
       "      <td>0003-MKNFE</td>\n",
       "    </tr>\n",
       "    <tr>\n",
       "      <th>2</th>\n",
       "      <td>0004-TLHLJ</td>\n",
       "    </tr>\n",
       "    <tr>\n",
       "      <th>3</th>\n",
       "      <td>0011-IGKFF</td>\n",
       "    </tr>\n",
       "    <tr>\n",
       "      <th>4</th>\n",
       "      <td>0013-EXCHZ</td>\n",
       "    </tr>\n",
       "    <tr>\n",
       "      <th>...</th>\n",
       "      <td>...</td>\n",
       "    </tr>\n",
       "    <tr>\n",
       "      <th>7038</th>\n",
       "      <td>9987-LUTYD</td>\n",
       "    </tr>\n",
       "    <tr>\n",
       "      <th>7039</th>\n",
       "      <td>9992-RRAMN</td>\n",
       "    </tr>\n",
       "    <tr>\n",
       "      <th>7040</th>\n",
       "      <td>9992-UJOEL</td>\n",
       "    </tr>\n",
       "    <tr>\n",
       "      <th>7041</th>\n",
       "      <td>9993-LHIEB</td>\n",
       "    </tr>\n",
       "    <tr>\n",
       "      <th>7042</th>\n",
       "      <td>9995-HOTOH</td>\n",
       "    </tr>\n",
       "  </tbody>\n",
       "</table>\n",
       "<p>7043 rows × 1 columns</p>\n",
       "</div>"
      ],
      "text/plain": [
       "     customer_id\n",
       "0     0002-ORFBO\n",
       "1     0003-MKNFE\n",
       "2     0004-TLHLJ\n",
       "3     0011-IGKFF\n",
       "4     0013-EXCHZ\n",
       "...          ...\n",
       "7038  9987-LUTYD\n",
       "7039  9992-RRAMN\n",
       "7040  9992-UJOEL\n",
       "7041  9993-LHIEB\n",
       "7042  9995-HOTOH\n",
       "\n",
       "[7043 rows x 1 columns]"
      ]
     },
     "execution_count": 76,
     "metadata": {},
     "output_type": "execute_result"
    }
   ],
   "source": [
    "telco_cust = acquire.get_telco_data(get_connection)\n",
    "telco_cust = telco_cust.drop(['Unnamed: 0','gender', 'senior_citizen', 'partner', 'phone_service', 'tech_support', 'streaming_tv', \n",
    "                    'streaming_movies', 'paperless_billing', 'internet_service_type', 'online_security', 'online_backup', \n",
    "                    'device_protection', 'internet_service_type_id', 'payment_type_id', 'contract_type_id', 'dependents', \n",
    "                    'tenure', 'multiple_lines', 'monthly_charges', 'total_charges', 'churn', 'contract_type', 'payment_type']\n",
    "                   , axis =1)\n",
    "telco_cust\n",
    "# prepping a new data frame to convert to the csv file"
   ]
  },
  {
   "cell_type": "code",
   "execution_count": 77,
   "id": "7a04a845",
   "metadata": {},
   "outputs": [
    {
     "data": {
      "text/html": [
       "<div>\n",
       "<style scoped>\n",
       "    .dataframe tbody tr th:only-of-type {\n",
       "        vertical-align: middle;\n",
       "    }\n",
       "\n",
       "    .dataframe tbody tr th {\n",
       "        vertical-align: top;\n",
       "    }\n",
       "\n",
       "    .dataframe thead th {\n",
       "        text-align: right;\n",
       "    }\n",
       "</style>\n",
       "<table border=\"1\" class=\"dataframe\">\n",
       "  <thead>\n",
       "    <tr style=\"text-align: right;\">\n",
       "      <th></th>\n",
       "      <th>0</th>\n",
       "    </tr>\n",
       "  </thead>\n",
       "  <tbody>\n",
       "    <tr>\n",
       "      <th>0</th>\n",
       "      <td>0.358084</td>\n",
       "    </tr>\n",
       "    <tr>\n",
       "      <th>1</th>\n",
       "      <td>0.977498</td>\n",
       "    </tr>\n",
       "    <tr>\n",
       "      <th>2</th>\n",
       "      <td>0.640611</td>\n",
       "    </tr>\n",
       "    <tr>\n",
       "      <th>3</th>\n",
       "      <td>0.919277</td>\n",
       "    </tr>\n",
       "    <tr>\n",
       "      <th>4</th>\n",
       "      <td>0.974504</td>\n",
       "    </tr>\n",
       "    <tr>\n",
       "      <th>...</th>\n",
       "      <td>...</td>\n",
       "    </tr>\n",
       "    <tr>\n",
       "      <th>1052</th>\n",
       "      <td>0.446795</td>\n",
       "    </tr>\n",
       "    <tr>\n",
       "      <th>1053</th>\n",
       "      <td>0.419733</td>\n",
       "    </tr>\n",
       "    <tr>\n",
       "      <th>1054</th>\n",
       "      <td>0.507693</td>\n",
       "    </tr>\n",
       "    <tr>\n",
       "      <th>1055</th>\n",
       "      <td>0.721356</td>\n",
       "    </tr>\n",
       "    <tr>\n",
       "      <th>1056</th>\n",
       "      <td>0.503362</td>\n",
       "    </tr>\n",
       "  </tbody>\n",
       "</table>\n",
       "<p>1057 rows × 1 columns</p>\n",
       "</div>"
      ],
      "text/plain": [
       "             0\n",
       "0     0.358084\n",
       "1     0.977498\n",
       "2     0.640611\n",
       "3     0.919277\n",
       "4     0.974504\n",
       "...        ...\n",
       "1052  0.446795\n",
       "1053  0.419733\n",
       "1054  0.507693\n",
       "1055  0.721356\n",
       "1056  0.503362\n",
       "\n",
       "[1057 rows x 1 columns]"
      ]
     },
     "execution_count": 77,
     "metadata": {},
     "output_type": "execute_result"
    }
   ],
   "source": [
    "churn_prob = rf.predict_proba(X_test)\n",
    "churn_prob = pd.DataFrame(churn_prob)\n",
    "churn_prob.drop(columns = 1)\n",
    "# grabbing retention probability"
   ]
  },
  {
   "cell_type": "code",
   "execution_count": 78,
   "id": "030c3a82",
   "metadata": {},
   "outputs": [],
   "source": [
    "pred_churn = rf.predict(X_test)\n",
    "pred_churn = pd.DataFrame(pred_churn)\n",
    "pred_churn = pred_churn.rename(columns ={0 : 'Churn'})\n",
    "# predicting the churn in a yes no format"
   ]
  },
  {
   "cell_type": "code",
   "execution_count": 79,
   "id": "3d1598ec",
   "metadata": {},
   "outputs": [
    {
     "data": {
      "text/html": [
       "<div>\n",
       "<style scoped>\n",
       "    .dataframe tbody tr th:only-of-type {\n",
       "        vertical-align: middle;\n",
       "    }\n",
       "\n",
       "    .dataframe tbody tr th {\n",
       "        vertical-align: top;\n",
       "    }\n",
       "\n",
       "    .dataframe thead th {\n",
       "        text-align: right;\n",
       "    }\n",
       "</style>\n",
       "<table border=\"1\" class=\"dataframe\">\n",
       "  <thead>\n",
       "    <tr style=\"text-align: right;\">\n",
       "      <th></th>\n",
       "      <th>customer_id</th>\n",
       "      <th>Retention Chance</th>\n",
       "      <th>Churn</th>\n",
       "    </tr>\n",
       "  </thead>\n",
       "  <tbody>\n",
       "    <tr>\n",
       "      <th>0</th>\n",
       "      <td>0002-ORFBO</td>\n",
       "      <td>0.358084</td>\n",
       "      <td>Yes</td>\n",
       "    </tr>\n",
       "    <tr>\n",
       "      <th>1</th>\n",
       "      <td>0003-MKNFE</td>\n",
       "      <td>0.977498</td>\n",
       "      <td>No</td>\n",
       "    </tr>\n",
       "    <tr>\n",
       "      <th>2</th>\n",
       "      <td>0004-TLHLJ</td>\n",
       "      <td>0.640611</td>\n",
       "      <td>No</td>\n",
       "    </tr>\n",
       "    <tr>\n",
       "      <th>3</th>\n",
       "      <td>0011-IGKFF</td>\n",
       "      <td>0.919277</td>\n",
       "      <td>No</td>\n",
       "    </tr>\n",
       "    <tr>\n",
       "      <th>4</th>\n",
       "      <td>0013-EXCHZ</td>\n",
       "      <td>0.974504</td>\n",
       "      <td>No</td>\n",
       "    </tr>\n",
       "    <tr>\n",
       "      <th>...</th>\n",
       "      <td>...</td>\n",
       "      <td>...</td>\n",
       "      <td>...</td>\n",
       "    </tr>\n",
       "    <tr>\n",
       "      <th>1052</th>\n",
       "      <td>1536-YHDOE</td>\n",
       "      <td>0.446795</td>\n",
       "      <td>Yes</td>\n",
       "    </tr>\n",
       "    <tr>\n",
       "      <th>1053</th>\n",
       "      <td>1539-LNKHM</td>\n",
       "      <td>0.419733</td>\n",
       "      <td>Yes</td>\n",
       "    </tr>\n",
       "    <tr>\n",
       "      <th>1054</th>\n",
       "      <td>1541-ETJZO</td>\n",
       "      <td>0.507693</td>\n",
       "      <td>No</td>\n",
       "    </tr>\n",
       "    <tr>\n",
       "      <th>1055</th>\n",
       "      <td>1543-LLLFT</td>\n",
       "      <td>0.721356</td>\n",
       "      <td>No</td>\n",
       "    </tr>\n",
       "    <tr>\n",
       "      <th>1056</th>\n",
       "      <td>1544-JJMYL</td>\n",
       "      <td>0.503362</td>\n",
       "      <td>No</td>\n",
       "    </tr>\n",
       "  </tbody>\n",
       "</table>\n",
       "<p>1057 rows × 3 columns</p>\n",
       "</div>"
      ],
      "text/plain": [
       "     customer_id  Retention Chance Churn\n",
       "0     0002-ORFBO          0.358084   Yes\n",
       "1     0003-MKNFE          0.977498    No\n",
       "2     0004-TLHLJ          0.640611    No\n",
       "3     0011-IGKFF          0.919277    No\n",
       "4     0013-EXCHZ          0.974504    No\n",
       "...          ...               ...   ...\n",
       "1052  1536-YHDOE          0.446795   Yes\n",
       "1053  1539-LNKHM          0.419733   Yes\n",
       "1054  1541-ETJZO          0.507693    No\n",
       "1055  1543-LLLFT          0.721356    No\n",
       "1056  1544-JJMYL          0.503362    No\n",
       "\n",
       "[1057 rows x 3 columns]"
      ]
     },
     "execution_count": 79,
     "metadata": {},
     "output_type": "execute_result"
    }
   ],
   "source": [
    "predictions = pd.concat([telco_cust, churn_prob, pred_churn], axis = 1).dropna().drop(columns = 1)\n",
    "predictions = predictions.rename(columns = {0 : 'Retention Chance'})\n",
    "predictions\n",
    "#concat the dataframe together to make a prediction csv"
   ]
  },
  {
   "cell_type": "code",
   "execution_count": 80,
   "id": "63aaa214",
   "metadata": {},
   "outputs": [],
   "source": [
    "predictions.to_csv('final_predictions.csv')\n",
    "#creates the csv file"
   ]
  },
  {
   "cell_type": "code",
   "execution_count": null,
   "id": "56c8b6b5",
   "metadata": {},
   "outputs": [],
   "source": []
  }
 ],
 "metadata": {
  "kernelspec": {
   "display_name": "Python 3 (ipykernel)",
   "language": "python",
   "name": "python3"
  },
  "language_info": {
   "codemirror_mode": {
    "name": "ipython",
    "version": 3
   },
   "file_extension": ".py",
   "mimetype": "text/x-python",
   "name": "python",
   "nbconvert_exporter": "python",
   "pygments_lexer": "ipython3",
   "version": "3.9.13"
  }
 },
 "nbformat": 4,
 "nbformat_minor": 5
}
